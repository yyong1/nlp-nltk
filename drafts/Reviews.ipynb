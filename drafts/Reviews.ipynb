{
 "cells": [
  {
   "cell_type": "code",
   "execution_count": 1,
   "id": "initial_id",
   "metadata": {
    "collapsed": true,
    "ExecuteTime": {
     "end_time": "2024-01-04T22:57:17.681719Z",
     "start_time": "2024-01-04T22:57:16.696120Z"
    }
   },
   "outputs": [],
   "source": [
    "import pandas as pd\n",
    "import numpy as np\n",
    "import matplotlib.pyplot as plt\n",
    "import seaborn as sns\n",
    "\n",
    "plt.style.use('ggplot')\n",
    "\n",
    "import nltk"
   ]
  },
  {
   "cell_type": "code",
   "execution_count": 2,
   "outputs": [],
   "source": [
    "# reading data\n",
    "df = pd.read_csv('./dataset/reviews.csv')\n",
    "# dfcour = pd.read_csv('./dataset/reviews_by_course.csv')"
   ],
   "metadata": {
    "collapsed": false,
    "ExecuteTime": {
     "end_time": "2024-01-04T22:57:23.551822Z",
     "start_time": "2024-01-04T22:57:22.604418Z"
    }
   },
   "id": "3fc7fb226d395946"
  },
  {
   "cell_type": "code",
   "execution_count": 3,
   "outputs": [
    {
     "data": {
      "text/plain": "     CourseId                                             Review  Label\n0  2-speed-it                                             BOring      1\n1  2-speed-it                                            Bravo !      5\n2  2-speed-it                                           Very goo      5\n3  2-speed-it  Great course - I recommend it for all, especia...      5\n4  2-speed-it    One of the most useful course on IT Management!      5",
      "text/html": "<div>\n<style scoped>\n    .dataframe tbody tr th:only-of-type {\n        vertical-align: middle;\n    }\n\n    .dataframe tbody tr th {\n        vertical-align: top;\n    }\n\n    .dataframe thead th {\n        text-align: right;\n    }\n</style>\n<table border=\"1\" class=\"dataframe\">\n  <thead>\n    <tr style=\"text-align: right;\">\n      <th></th>\n      <th>CourseId</th>\n      <th>Review</th>\n      <th>Label</th>\n    </tr>\n  </thead>\n  <tbody>\n    <tr>\n      <th>0</th>\n      <td>2-speed-it</td>\n      <td>BOring</td>\n      <td>1</td>\n    </tr>\n    <tr>\n      <th>1</th>\n      <td>2-speed-it</td>\n      <td>Bravo !</td>\n      <td>5</td>\n    </tr>\n    <tr>\n      <th>2</th>\n      <td>2-speed-it</td>\n      <td>Very goo</td>\n      <td>5</td>\n    </tr>\n    <tr>\n      <th>3</th>\n      <td>2-speed-it</td>\n      <td>Great course - I recommend it for all, especia...</td>\n      <td>5</td>\n    </tr>\n    <tr>\n      <th>4</th>\n      <td>2-speed-it</td>\n      <td>One of the most useful course on IT Management!</td>\n      <td>5</td>\n    </tr>\n  </tbody>\n</table>\n</div>"
     },
     "execution_count": 3,
     "metadata": {},
     "output_type": "execute_result"
    }
   ],
   "source": [
    "df.head()"
   ],
   "metadata": {
    "collapsed": false,
    "ExecuteTime": {
     "end_time": "2024-01-04T22:57:25.708784Z",
     "start_time": "2024-01-04T22:57:25.683463Z"
    }
   },
   "id": "b83139f47b107041"
  },
  {
   "cell_type": "code",
   "execution_count": 5,
   "outputs": [
    {
     "data": {
      "text/plain": "<Figure size 1000x600 with 1 Axes>",
      "image/png": "[encoded data removed]"
     },
     "metadata": {},
     "output_type": "display_data"
    }
   ],
   "source": [
    "label_counts = df['Label'].value_counts()\n",
    "plt.figure(figsize=(10, 6))\n",
    "sns.barplot(x=label_counts.index, y=label_counts.values)\n",
    "plt.title('Course marks')\n",
    "plt.xlabel('Marks')\n",
    "plt.ylabel('Quantity')\n",
    "plt.show()"
   ],
   "metadata": {
    "collapsed": false,
    "ExecuteTime": {
     "end_time": "2023-12-26T21:58:08.045754Z",
     "start_time": "2023-12-26T21:58:07.872753Z"
    }
   },
   "id": "ffb875dd7e19425b"
  },
  {
   "cell_type": "code",
   "execution_count": 6,
   "outputs": [
    {
     "name": "stdout",
     "output_type": "stream",
     "text": [
      "Great course - I recommend it for all, especially IT and Business Managers!\n"
     ]
    }
   ],
   "source": [
    "review = df['Review'][5]\n",
    "print(review)"
   ],
   "metadata": {
    "collapsed": false,
    "ExecuteTime": {
     "end_time": "2023-12-26T21:58:10.644350Z",
     "start_time": "2023-12-26T21:58:10.542241Z"
    }
   },
   "id": "ad84dbff2aa172c3"
  },
  {
   "cell_type": "code",
   "execution_count": 7,
   "outputs": [
    {
     "data": {
      "text/plain": "['Great',\n 'course',\n '-',\n 'I',\n 'recommend',\n 'it',\n 'for',\n 'all',\n ',',\n 'especially']"
     },
     "execution_count": 7,
     "metadata": {},
     "output_type": "execute_result"
    }
   ],
   "source": [
    "tokens = nltk.word_tokenize(review)\n",
    "tokens[:10]"
   ],
   "metadata": {
    "collapsed": false,
    "ExecuteTime": {
     "end_time": "2023-12-26T21:58:20.529131Z",
     "start_time": "2023-12-26T21:58:20.420585Z"
    }
   },
   "id": "8b37dbd3b5142cf6"
  },
  {
   "cell_type": "code",
   "execution_count": 8,
   "outputs": [
    {
     "data": {
      "text/plain": "[('Great', 'NNP'),\n ('course', 'NN'),\n ('-', ':'),\n ('I', 'PRP'),\n ('recommend', 'VBP'),\n ('it', 'PRP'),\n ('for', 'IN'),\n ('all', 'DT'),\n (',', ','),\n ('especially', 'RB')]"
     },
     "execution_count": 8,
     "metadata": {},
     "output_type": "execute_result"
    }
   ],
   "source": [
    "tagged = nltk.pos_tag(tokens)\n",
    "tagged[:10]"
   ],
   "metadata": {
    "collapsed": false,
    "ExecuteTime": {
     "end_time": "2023-12-26T21:58:30.111452Z",
     "start_time": "2023-12-26T21:58:30.009263Z"
    }
   },
   "id": "2cf5a3776554d25d"
  },
  {
   "cell_type": "code",
   "execution_count": 10,
   "outputs": [
    {
     "name": "stderr",
     "output_type": "stream",
     "text": [
      "[nltk_data] Downloading package vader_lexicon to\n",
      "[nltk_data]     /Users/andrey/nltk_data...\n",
      "[nltk_data]   Package vader_lexicon is already up-to-date!\n"
     ]
    }
   ],
   "source": [
    "## VADER ANALYSIS\n",
    "import nltk\n",
    "from nltk.sentiment import SentimentIntensityAnalyzer\n",
    "from tqdm.notebook import tqdm\n",
    "\n",
    "nltk.download('vader_lexicon')\n",
    "\n",
    "sia = SentimentIntensityAnalyzer()"
   ],
   "metadata": {
    "collapsed": false,
    "ExecuteTime": {
     "end_time": "2023-12-26T21:58:37.620428Z",
     "start_time": "2023-12-26T21:58:37.361341Z"
    }
   },
   "id": "21702f189814f417"
  },
  {
   "cell_type": "code",
   "execution_count": 11,
   "outputs": [
    {
     "name": "stdout",
     "output_type": "stream",
     "text": [
      "{'neg': 0.0, 'neu': 0.192, 'pos': 0.808, 'compound': 0.6369}\n",
      "{'neg': 0.451, 'neu': 0.549, 'pos': 0.0, 'compound': -0.6249}\n"
     ]
    }
   ],
   "source": [
    "# testing \n",
    "positive = sia.polarity_scores('I love Python')\n",
    "negative = sia.polarity_scores('This is the worst course ever')\n",
    "print(positive)\n",
    "print(negative)"
   ],
   "metadata": {
    "collapsed": false,
    "ExecuteTime": {
     "end_time": "2023-12-26T21:58:43.107284Z",
     "start_time": "2023-12-26T21:58:42.999857Z"
    }
   },
   "id": "dec588cede2622d8"
  },
  {
   "cell_type": "code",
   "execution_count": 9,
   "outputs": [
    {
     "name": "stdout",
     "output_type": "stream",
     "text": [
      "(S\n",
      "  (GPE Great/NNP)\n",
      "  course/NN\n",
      "  -/:\n",
      "  I/PRP\n",
      "  recommend/VBP\n",
      "  it/PRP\n",
      "  for/IN\n",
      "  all/DT\n",
      "  ,/,\n",
      "  especially/RB\n",
      "  IT/NNP\n",
      "  and/CC\n",
      "  (ORGANIZATION Business/NNP Managers/NNPS)\n",
      "  !/.)\n"
     ]
    }
   ],
   "source": [
    "entities = nltk.chunk.ne_chunk(tagged)\n",
    "entities.pprint()"
   ],
   "metadata": {
    "collapsed": false,
    "ExecuteTime": {
     "end_time": "2023-12-26T21:58:34.299411Z",
     "start_time": "2023-12-26T21:58:34.179480Z"
    }
   },
   "id": "226be103a1750368"
  },
  {
   "cell_type": "code",
   "execution_count": 12,
   "outputs": [
    {
     "data": {
      "text/plain": "{'neg': 0.0, 'neu': 0.566, 'pos': 0.434, 'compound': 0.784}"
     },
     "execution_count": 12,
     "metadata": {},
     "output_type": "execute_result"
    }
   ],
   "source": [
    "sia.polarity_scores(review)"
   ],
   "metadata": {
    "collapsed": false,
    "ExecuteTime": {
     "end_time": "2023-12-26T21:58:46.667259Z",
     "start_time": "2023-12-26T21:58:46.547835Z"
    }
   },
   "id": "1a867abb35da7ef3"
  },
  {
   "cell_type": "code",
   "execution_count": 13,
   "outputs": [
    {
     "data": {
      "text/plain": "  0%|          | 0/107018 [00:00<?, ?it/s]",
      "application/vnd.jupyter.widget-view+json": {
       "version_major": 2,
       "version_minor": 0,
       "model_id": "c7d34ca4fad542a6a86cb6641fc466d9"
      }
     },
     "metadata": {},
     "output_type": "display_data"
    },
    {
     "name": "stderr",
     "output_type": "stream",
     "text": [
      "IOPub data rate exceeded.\n",
      "The notebook server will temporarily stop sending output\n",
      "to the client in order to avoid crashing it.\n",
      "To change this limit, set the config variable\n",
      "`--NotebookApp.iopub_data_rate_limit`.\n",
      "\n",
      "Current values:\n",
      "NotebookApp.iopub_data_rate_limit=1000000.0 (bytes/sec)\n",
      "NotebookApp.rate_limit_window=3.0 (secs)\n",
      "\n"
     ]
    }
   ],
   "source": [
    "# run the polarity score on the entire dataset\n",
    "res = {}\n",
    "for i, row in tqdm(df.iterrows(), total=len(df)):\n",
    "        text = row['Review']\n",
    "        myid = row['Id']\n",
    "        res[myid] = sia.polarity_scores(text)\n",
    "print(res)"
   ],
   "metadata": {
    "collapsed": false,
    "ExecuteTime": {
     "end_time": "2023-12-26T21:59:14.118603Z",
     "start_time": "2023-12-26T21:58:49.267618Z"
    }
   },
   "id": "896c29427a49f142"
  },
  {
   "cell_type": "code",
   "execution_count": 15,
   "outputs": [],
   "source": [
    "vaders = pd.DataFrame(res).T\n",
    "vaders = vaders.reset_index().rename(columns={'index': 'Id'})\n",
    "vaders = vaders.merge(df, how='left')"
   ],
   "metadata": {
    "collapsed": false,
    "ExecuteTime": {
     "end_time": "2023-12-26T22:00:37.460382Z",
     "start_time": "2023-12-26T22:00:36.222178Z"
    }
   },
   "id": "45e4057867e03704"
  },
  {
   "cell_type": "code",
   "execution_count": 16,
   "outputs": [
    {
     "data": {
      "text/plain": "   Id  neg    neu    pos  compound  \\\n0   0  0.0  0.152  0.848    0.6808   \n1   1  0.0  0.866  0.134    0.4754   \n2   2  0.0  0.575  0.425    0.8843   \n3   3  0.0  0.701  0.299    0.5719   \n4   4  0.0  0.794  0.206    0.3266   \n\n                                              Review  Label  \n0                               good and interesting      5  \n1  This class is very helpful to me. Currently, I...      5  \n2  like!Prof and TAs are helpful and the discussi...      5  \n3  Easy to follow and includes a lot basic and im...      5  \n4  Really nice teacher!I could got the point eazl...      4  ",
      "text/html": "<div>\n<style scoped>\n    .dataframe tbody tr th:only-of-type {\n        vertical-align: middle;\n    }\n\n    .dataframe tbody tr th {\n        vertical-align: top;\n    }\n\n    .dataframe thead th {\n        text-align: right;\n    }\n</style>\n<table border=\"1\" class=\"dataframe\">\n  <thead>\n    <tr style=\"text-align: right;\">\n      <th></th>\n      <th>Id</th>\n      <th>neg</th>\n      <th>neu</th>\n      <th>pos</th>\n      <th>compound</th>\n      <th>Review</th>\n      <th>Label</th>\n    </tr>\n  </thead>\n  <tbody>\n    <tr>\n      <th>0</th>\n      <td>0</td>\n      <td>0.0</td>\n      <td>0.152</td>\n      <td>0.848</td>\n      <td>0.6808</td>\n      <td>good and interesting</td>\n      <td>5</td>\n    </tr>\n    <tr>\n      <th>1</th>\n      <td>1</td>\n      <td>0.0</td>\n      <td>0.866</td>\n      <td>0.134</td>\n      <td>0.4754</td>\n      <td>This class is very helpful to me. Currently, I...</td>\n      <td>5</td>\n    </tr>\n    <tr>\n      <th>2</th>\n      <td>2</td>\n      <td>0.0</td>\n      <td>0.575</td>\n      <td>0.425</td>\n      <td>0.8843</td>\n      <td>like!Prof and TAs are helpful and the discussi...</td>\n      <td>5</td>\n    </tr>\n    <tr>\n      <th>3</th>\n      <td>3</td>\n      <td>0.0</td>\n      <td>0.701</td>\n      <td>0.299</td>\n      <td>0.5719</td>\n      <td>Easy to follow and includes a lot basic and im...</td>\n      <td>5</td>\n    </tr>\n    <tr>\n      <th>4</th>\n      <td>4</td>\n      <td>0.0</td>\n      <td>0.794</td>\n      <td>0.206</td>\n      <td>0.3266</td>\n      <td>Really nice teacher!I could got the point eazl...</td>\n      <td>4</td>\n    </tr>\n  </tbody>\n</table>\n</div>"
     },
     "execution_count": 16,
     "metadata": {},
     "output_type": "execute_result"
    }
   ],
   "source": [
    "# now we have sentiment score and metadata\n",
    "vaders.head()"
   ],
   "metadata": {
    "collapsed": false,
    "ExecuteTime": {
     "end_time": "2023-12-26T22:00:38.990666Z",
     "start_time": "2023-12-26T22:00:38.886187Z"
    }
   },
   "id": "4dcab517db25571c"
  },
  {
   "cell_type": "code",
   "execution_count": 17,
   "outputs": [
    {
     "data": {
      "text/plain": "Text(0.5, 1.0, 'Compound Score by Coursera`s Course')"
     },
     "execution_count": 17,
     "metadata": {},
     "output_type": "execute_result"
    },
    {
     "data": {
      "text/plain": "<Figure size 640x480 with 1 Axes>",
      "image/png": "[encoded data removed]"
     },
     "metadata": {},
     "output_type": "display_data"
    }
   ],
   "source": [
    "ax = sns.barplot(data=vaders, x='Label', y='compound')\n",
    "ax.set_title('Compound Score by Coursera`s Course')"
   ],
   "metadata": {
    "collapsed": false,
    "ExecuteTime": {
     "end_time": "2023-12-26T22:01:02.463557Z",
     "start_time": "2023-12-26T22:01:01.353193Z"
    }
   },
   "id": "92c19c4bfefa16fd"
  },
  {
   "cell_type": "code",
   "execution_count": 18,
   "outputs": [
    {
     "data": {
      "text/plain": "<Figure size 1200x300 with 3 Axes>",
      "image/png": "[encoded data removed]"
     },
     "metadata": {},
     "output_type": "display_data"
    }
   ],
   "source": [
    "fig, axs = plt.subplots(1,3, figsize=(12,3))\n",
    "sns.barplot(data=vaders, x='Label', y='pos', ax=axs[0])\n",
    "sns.barplot(data=vaders, x='Label', y='neu', ax=axs[1])\n",
    "sns.barplot(data=vaders, x='Label', y='neg', ax=axs[2])\n",
    "axs[0].set_title('Positive Score')\n",
    "axs[1].set_title('Neutral Score')\n",
    "axs[2].set_title('Negative Score')\n",
    "plt.show()"
   ],
   "metadata": {
    "collapsed": false,
    "ExecuteTime": {
     "end_time": "2023-12-26T22:01:09.006043Z",
     "start_time": "2023-12-26T22:01:06.047441Z"
    }
   },
   "id": "51c4a67e0ecda65e"
  },
  {
   "cell_type": "code",
   "execution_count": 19,
   "outputs": [],
   "source": [
    "#Roberta Pretrained Model\n",
    "from transformers import AutoTokenizer\n",
    "from transformers import AutoModelForSequenceClassification\n",
    "from scipy.special import softmax"
   ],
   "metadata": {
    "collapsed": false,
    "ExecuteTime": {
     "end_time": "2023-12-26T22:01:15.341459Z",
     "start_time": "2023-12-26T22:01:11.116357Z"
    }
   },
   "id": "66cf00089593202f"
  },
  {
   "cell_type": "code",
   "execution_count": 20,
   "outputs": [],
   "source": [
    "MODEL = f\"cardiffnlp/twitter-roberta-base-sentiment\"\n",
    "tokenizer = AutoTokenizer.from_pretrained(MODEL)\n",
    "model = AutoModelForSequenceClassification.from_pretrained(MODEL)"
   ],
   "metadata": {
    "collapsed": false,
    "ExecuteTime": {
     "end_time": "2023-12-26T22:01:41.979517Z",
     "start_time": "2023-12-26T22:01:34.963250Z"
    }
   },
   "id": "453ec290f7d7e14b"
  },
  {
   "cell_type": "code",
   "execution_count": 21,
   "outputs": [
    {
     "name": "stdout",
     "output_type": "stream",
     "text": [
      "Great course - I recommend it for all, especially IT and Business Managers!\n"
     ]
    },
    {
     "data": {
      "text/plain": "{'neg': 0.0, 'neu': 0.566, 'pos': 0.434, 'compound': 0.784}"
     },
     "execution_count": 21,
     "metadata": {},
     "output_type": "execute_result"
    }
   ],
   "source": [
    "# VADER res on review\n",
    "print(review)\n",
    "sia.polarity_scores(review)"
   ],
   "metadata": {
    "collapsed": false,
    "ExecuteTime": {
     "end_time": "2023-12-26T22:01:44.423596Z",
     "start_time": "2023-12-26T22:01:44.309743Z"
    }
   },
   "id": "34c2d0834ab9d495"
  },
  {
   "cell_type": "code",
   "execution_count": 22,
   "outputs": [
    {
     "name": "stdout",
     "output_type": "stream",
     "text": [
      "{'roberta_neg': 0.0016169129, 'roberta_neu': 0.021036461, 'roberta_pos': 0.9773466}\n"
     ]
    }
   ],
   "source": [
    "#Run for Roberta Model \n",
    "encoded_text = tokenizer(review, return_tensors='pt')\n",
    "output = model(**encoded_text)\n",
    "# print(output)\n",
    "labels = output[0][0].detach().numpy()\n",
    "labels = softmax(labels)\n",
    "scores_dict = {\n",
    "    'roberta_neg': labels[0],\n",
    "    'roberta_neu': labels[1],\n",
    "    'roberta_pos': labels[2]\n",
    "}\n",
    "print(scores_dict)"
   ],
   "metadata": {
    "collapsed": false,
    "ExecuteTime": {
     "end_time": "2023-12-26T22:09:12.691280Z",
     "start_time": "2023-12-26T22:09:12.441998Z"
    }
   },
   "id": "ab9259c08850192d"
  },
  {
   "cell_type": "code",
   "execution_count": 25,
   "outputs": [],
   "source": [
    "def polarity_scores_roberta(review_input):\n",
    "    #Run for Roberta Model \n",
    "    encoded_text = tokenizer(review_input, return_tensors='pt')\n",
    "    output = model(**encoded_text)\n",
    "    # print(output)\n",
    "    labels = output[0][0].detach().numpy()\n",
    "    labels = softmax(labels)\n",
    "    scores_dict = {\n",
    "        'roberta_neg': labels[0],\n",
    "        'roberta_neu': labels[1],\n",
    "        'roberta_pos': labels[2]\n",
    "    }\n",
    "    print(scores_dict)\n",
    "    return scores_dict"
   ],
   "metadata": {
    "collapsed": false,
    "ExecuteTime": {
     "end_time": "2023-12-26T22:11:34.966393Z",
     "start_time": "2023-12-26T22:11:34.943499Z"
    }
   },
   "id": "fcaac77c570bc667"
  },
  {
   "cell_type": "code",
   "execution_count": 26,
   "outputs": [
    {
     "data": {
      "text/plain": "  0%|          | 0/500 [00:00<?, ?it/s]",
      "application/vnd.jupyter.widget-view+json": {
       "version_major": 2,
       "version_minor": 0,
       "model_id": "385157dab12d4c408e9ea1e99626a0e4"
      }
     },
     "metadata": {},
     "output_type": "display_data"
    },
    {
     "name": "stdout",
     "output_type": "stream",
     "text": [
      "{'roberta_neg': 0.0049254913, 'roberta_neu': 0.06450213, 'roberta_pos': 0.93057245}\n",
      "{'roberta_neg': 0.0017417651, 'roberta_neu': 0.025957484, 'roberta_pos': 0.9723007}\n",
      "{'roberta_neg': 0.0012802425, 'roberta_neu': 0.013505926, 'roberta_pos': 0.9852138}\n",
      "{'roberta_neg': 0.0028339867, 'roberta_neu': 0.08094344, 'roberta_pos': 0.91622263}\n",
      "{'roberta_neg': 0.006642156, 'roberta_neu': 0.06928422, 'roberta_pos': 0.9240736}\n",
      "{'roberta_neg': 0.0016169129, 'roberta_neu': 0.021036461, 'roberta_pos': 0.9773466}\n",
      "{'roberta_neg': 0.0013154624, 'roberta_neu': 0.023298621, 'roberta_pos': 0.97538596}\n",
      "{'roberta_neg': 0.49969095, 'roberta_neu': 0.37324435, 'roberta_pos': 0.12706469}\n",
      "{'roberta_neg': 0.0013620027, 'roberta_neu': 0.021017728, 'roberta_pos': 0.9776203}\n",
      "{'roberta_neg': 0.0013501131, 'roberta_neu': 0.02950001, 'roberta_pos': 0.96914995}\n",
      "{'roberta_neg': 0.02176074, 'roberta_neu': 0.24176675, 'roberta_pos': 0.73647255}\n",
      "{'roberta_neg': 0.0020857307, 'roberta_neu': 0.01342344, 'roberta_pos': 0.9844908}\n",
      "{'roberta_neg': 0.015686272, 'roberta_neu': 0.14418864, 'roberta_pos': 0.8401251}\n",
      "{'roberta_neg': 0.6062033, 'roberta_neu': 0.33724385, 'roberta_pos': 0.056552853}\n",
      "{'roberta_neg': 0.001586946, 'roberta_neu': 0.029689938, 'roberta_pos': 0.96872306}\n",
      "{'roberta_neg': 0.18108615, 'roberta_neu': 0.5860756, 'roberta_pos': 0.23283818}\n",
      "{'roberta_neg': 0.0023285977, 'roberta_neu': 0.057482645, 'roberta_pos': 0.9401888}\n",
      "{'roberta_neg': 0.43045637, 'roberta_neu': 0.5344305, 'roberta_pos': 0.03511316}\n",
      "{'roberta_neg': 0.09725937, 'roberta_neu': 0.77345955, 'roberta_pos': 0.12928112}\n",
      "{'roberta_neg': 0.40360054, 'roberta_neu': 0.39854932, 'roberta_pos': 0.19785017}\n",
      "{'roberta_neg': 0.0041018166, 'roberta_neu': 0.025001438, 'roberta_pos': 0.9708967}\n",
      "{'roberta_neg': 0.002456152, 'roberta_neu': 0.016293185, 'roberta_pos': 0.9812507}\n",
      "{'roberta_neg': 0.0018663218, 'roberta_neu': 0.03577331, 'roberta_pos': 0.96236044}\n",
      "{'roberta_neg': 0.0017298807, 'roberta_neu': 0.020946616, 'roberta_pos': 0.9773235}\n",
      "{'roberta_neg': 0.0021595182, 'roberta_neu': 0.021631563, 'roberta_pos': 0.9762089}\n",
      "{'roberta_neg': 0.020953704, 'roberta_neu': 0.07951216, 'roberta_pos': 0.8995341}\n",
      "{'roberta_neg': 0.0038045198, 'roberta_neu': 0.053617235, 'roberta_pos': 0.94257826}\n",
      "{'roberta_neg': 0.0023693726, 'roberta_neu': 0.02093931, 'roberta_pos': 0.9766913}\n",
      "{'roberta_neg': 0.0028258073, 'roberta_neu': 0.06524219, 'roberta_pos': 0.93193203}\n",
      "{'roberta_neg': 0.0013164954, 'roberta_neu': 0.007301375, 'roberta_pos': 0.9913822}\n",
      "{'roberta_neg': 0.0033032114, 'roberta_neu': 0.06585752, 'roberta_pos': 0.93083924}\n",
      "{'roberta_neg': 0.083397344, 'roberta_neu': 0.75305873, 'roberta_pos': 0.16354388}\n",
      "{'roberta_neg': 0.018354254, 'roberta_neu': 0.2104806, 'roberta_pos': 0.77116513}\n",
      "{'roberta_neg': 0.017215632, 'roberta_neu': 0.35440883, 'roberta_pos': 0.6283755}\n",
      "{'roberta_neg': 0.013726554, 'roberta_neu': 0.3499339, 'roberta_pos': 0.6363396}\n",
      "{'roberta_neg': 0.0030683144, 'roberta_neu': 0.031654, 'roberta_pos': 0.96527773}\n",
      "{'roberta_neg': 0.04050654, 'roberta_neu': 0.6365859, 'roberta_pos': 0.32290757}\n",
      "{'roberta_neg': 0.0057977447, 'roberta_neu': 0.3617789, 'roberta_pos': 0.6324234}\n",
      "{'roberta_neg': 0.03352741, 'roberta_neu': 0.4255672, 'roberta_pos': 0.54090536}\n",
      "{'roberta_neg': 0.0026553674, 'roberta_neu': 0.039414126, 'roberta_pos': 0.9579305}\n",
      "{'roberta_neg': 0.0018611684, 'roberta_neu': 0.013410244, 'roberta_pos': 0.9847285}\n",
      "{'roberta_neg': 0.003679675, 'roberta_neu': 0.15791632, 'roberta_pos': 0.83840406}\n",
      "{'roberta_neg': 0.08543647, 'roberta_neu': 0.86349475, 'roberta_pos': 0.051068824}\n",
      "{'roberta_neg': 0.009027945, 'roberta_neu': 0.2873498, 'roberta_pos': 0.7036223}\n",
      "{'roberta_neg': 0.0017315145, 'roberta_neu': 0.021647597, 'roberta_pos': 0.9766209}\n",
      "{'roberta_neg': 0.0021148324, 'roberta_neu': 0.02122208, 'roberta_pos': 0.97666305}\n",
      "{'roberta_neg': 0.0024501171, 'roberta_neu': 0.018428652, 'roberta_pos': 0.9791212}\n",
      "{'roberta_neg': 0.0024367045, 'roberta_neu': 0.030852826, 'roberta_pos': 0.9667105}\n",
      "{'roberta_neg': 0.015152148, 'roberta_neu': 0.14981262, 'roberta_pos': 0.83503526}\n",
      "{'roberta_neg': 0.3449714, 'roberta_neu': 0.45552135, 'roberta_pos': 0.1995073}\n",
      "{'roberta_neg': 0.003051046, 'roberta_neu': 0.016622812, 'roberta_pos': 0.9803262}\n",
      "{'roberta_neg': 0.0033430543, 'roberta_neu': 0.032141875, 'roberta_pos': 0.96451503}\n",
      "{'roberta_neg': 0.05978978, 'roberta_neu': 0.8173636, 'roberta_pos': 0.12284661}\n",
      "{'roberta_neg': 0.004184666, 'roberta_neu': 0.24485835, 'roberta_pos': 0.75095695}\n",
      "{'roberta_neg': 0.010374645, 'roberta_neu': 0.12519404, 'roberta_pos': 0.8644314}\n",
      "{'roberta_neg': 0.13463917, 'roberta_neu': 0.30904722, 'roberta_pos': 0.55631363}\n",
      "{'roberta_neg': 0.008765086, 'roberta_neu': 0.44821408, 'roberta_pos': 0.5430208}\n",
      "{'roberta_neg': 0.0017729743, 'roberta_neu': 0.015045487, 'roberta_pos': 0.98318154}\n",
      "{'roberta_neg': 0.0016455568, 'roberta_neu': 0.021053536, 'roberta_pos': 0.97730094}\n",
      "{'roberta_neg': 0.0019048149, 'roberta_neu': 0.08363751, 'roberta_pos': 0.9144576}\n",
      "{'roberta_neg': 0.05926283, 'roberta_neu': 0.83575344, 'roberta_pos': 0.104983635}\n",
      "{'roberta_neg': 0.019133464, 'roberta_neu': 0.25552776, 'roberta_pos': 0.72533876}\n",
      "{'roberta_neg': 0.0047569307, 'roberta_neu': 0.07646619, 'roberta_pos': 0.9187768}\n",
      "{'roberta_neg': 0.0024356486, 'roberta_neu': 0.030329563, 'roberta_pos': 0.9672348}\n",
      "{'roberta_neg': 0.5273113, 'roberta_neu': 0.42454222, 'roberta_pos': 0.04814645}\n",
      "{'roberta_neg': 0.0043426934, 'roberta_neu': 0.15072602, 'roberta_pos': 0.8449313}\n",
      "{'roberta_neg': 0.0024778796, 'roberta_neu': 0.03341554, 'roberta_pos': 0.9641065}\n",
      "{'roberta_neg': 0.94353676, 'roberta_neu': 0.05161905, 'roberta_pos': 0.0048442124}\n",
      "{'roberta_neg': 0.021137765, 'roberta_neu': 0.6329679, 'roberta_pos': 0.3458944}\n",
      "{'roberta_neg': 0.011547386, 'roberta_neu': 0.11267987, 'roberta_pos': 0.8757728}\n",
      "{'roberta_neg': 0.06943129, 'roberta_neu': 0.3052334, 'roberta_pos': 0.62533534}\n",
      "{'roberta_neg': 0.8793231, 'roberta_neu': 0.10746396, 'roberta_pos': 0.013212923}\n",
      "{'roberta_neg': 0.0017747474, 'roberta_neu': 0.024199774, 'roberta_pos': 0.9740254}\n",
      "{'roberta_neg': 0.0018112451, 'roberta_neu': 0.056232404, 'roberta_pos': 0.94195634}\n",
      "{'roberta_neg': 0.11678202, 'roberta_neu': 0.41034976, 'roberta_pos': 0.4728682}\n",
      "{'roberta_neg': 0.002068684, 'roberta_neu': 0.017864218, 'roberta_pos': 0.98006713}\n",
      "{'roberta_neg': 0.0043704123, 'roberta_neu': 0.07838001, 'roberta_pos': 0.9172496}\n",
      "{'roberta_neg': 0.0030314997, 'roberta_neu': 0.03029682, 'roberta_pos': 0.9666717}\n",
      "{'roberta_neg': 0.001698244, 'roberta_neu': 0.012724137, 'roberta_pos': 0.98557764}\n",
      "{'roberta_neg': 0.85160124, 'roberta_neu': 0.13618067, 'roberta_pos': 0.012218137}\n",
      "{'roberta_neg': 0.0059572654, 'roberta_neu': 0.13664143, 'roberta_pos': 0.8574013}\n",
      "{'roberta_neg': 0.0015356205, 'roberta_neu': 0.009267918, 'roberta_pos': 0.98919654}\n",
      "{'roberta_neg': 0.0016449067, 'roberta_neu': 0.039388437, 'roberta_pos': 0.9589667}\n",
      "{'roberta_neg': 0.0017589746, 'roberta_neu': 0.010008663, 'roberta_pos': 0.9882323}\n",
      "{'roberta_neg': 0.009448426, 'roberta_neu': 0.16167176, 'roberta_pos': 0.8288798}\n",
      "{'roberta_neg': 0.0012438593, 'roberta_neu': 0.02918303, 'roberta_pos': 0.96957314}\n",
      "{'roberta_neg': 0.004447653, 'roberta_neu': 0.088362284, 'roberta_pos': 0.9071901}\n",
      "{'roberta_neg': 0.0014431813, 'roberta_neu': 0.030791555, 'roberta_pos': 0.9677653}\n",
      "{'roberta_neg': 0.0019100698, 'roberta_neu': 0.029056396, 'roberta_pos': 0.9690335}\n",
      "{'roberta_neg': 0.0035880595, 'roberta_neu': 0.25632733, 'roberta_pos': 0.74008465}\n",
      "{'roberta_neg': 0.0014612997, 'roberta_neu': 0.007040664, 'roberta_pos': 0.99149805}\n",
      "{'roberta_neg': 0.0016554273, 'roberta_neu': 0.011082176, 'roberta_pos': 0.9872624}\n",
      "{'roberta_neg': 0.0011713845, 'roberta_neu': 0.0072255917, 'roberta_pos': 0.9916031}\n",
      "{'roberta_neg': 0.004652549, 'roberta_neu': 0.045739893, 'roberta_pos': 0.94960755}\n",
      "{'roberta_neg': 0.0060341987, 'roberta_neu': 0.15359314, 'roberta_pos': 0.8403726}\n",
      "{'roberta_neg': 0.000993691, 'roberta_neu': 0.017488046, 'roberta_pos': 0.9815183}\n",
      "{'roberta_neg': 0.0011479888, 'roberta_neu': 0.010547914, 'roberta_pos': 0.98830414}\n",
      "{'roberta_neg': 0.00228132, 'roberta_neu': 0.042638846, 'roberta_pos': 0.9550799}\n",
      "{'roberta_neg': 0.0034594075, 'roberta_neu': 0.061990883, 'roberta_pos': 0.93454975}\n",
      "{'roberta_neg': 0.0048516258, 'roberta_neu': 0.15278348, 'roberta_pos': 0.84236485}\n",
      "{'roberta_neg': 0.05147193, 'roberta_neu': 0.86726886, 'roberta_pos': 0.08125921}\n",
      "{'roberta_neg': 0.001984026, 'roberta_neu': 0.04871196, 'roberta_pos': 0.949304}\n",
      "{'roberta_neg': 0.0013542471, 'roberta_neu': 0.009460848, 'roberta_pos': 0.98918486}\n",
      "{'roberta_neg': 0.001398355, 'roberta_neu': 0.0141352555, 'roberta_pos': 0.98446643}\n",
      "{'roberta_neg': 0.0019787461, 'roberta_neu': 0.053167466, 'roberta_pos': 0.9448537}\n",
      "{'roberta_neg': 0.3449714, 'roberta_neu': 0.45552135, 'roberta_pos': 0.1995073}\n",
      "{'roberta_neg': 0.29274654, 'roberta_neu': 0.4983004, 'roberta_pos': 0.20895313}\n",
      "{'roberta_neg': 0.0013280008, 'roberta_neu': 0.015085328, 'roberta_pos': 0.9835866}\n",
      "{'roberta_neg': 0.0015648956, 'roberta_neu': 0.005256283, 'roberta_pos': 0.99317884}\n",
      "{'roberta_neg': 0.0022490085, 'roberta_neu': 0.010777106, 'roberta_pos': 0.9869739}\n",
      "{'roberta_neg': 0.76053023, 'roberta_neu': 0.22424029, 'roberta_pos': 0.015229567}\n",
      "{'roberta_neg': 0.014618336, 'roberta_neu': 0.21146302, 'roberta_pos': 0.7739186}\n",
      "{'roberta_neg': 0.0021929408, 'roberta_neu': 0.050727095, 'roberta_pos': 0.94707996}\n",
      "{'roberta_neg': 0.0041408194, 'roberta_neu': 0.09495147, 'roberta_pos': 0.90090775}\n",
      "{'roberta_neg': 0.0018833061, 'roberta_neu': 0.036745716, 'roberta_pos': 0.961371}\n",
      "{'roberta_neg': 0.1380819, 'roberta_neu': 0.47847962, 'roberta_pos': 0.38343844}\n",
      "{'roberta_neg': 0.08627007, 'roberta_neu': 0.4137523, 'roberta_pos': 0.4999776}\n",
      "{'roberta_neg': 0.0019195398, 'roberta_neu': 0.012904712, 'roberta_pos': 0.9851757}\n",
      "{'roberta_neg': 0.0030181715, 'roberta_neu': 0.03318103, 'roberta_pos': 0.9638008}\n",
      "{'roberta_neg': 0.0024375338, 'roberta_neu': 0.026453888, 'roberta_pos': 0.9711086}\n",
      "{'roberta_neg': 0.008975861, 'roberta_neu': 0.33616102, 'roberta_pos': 0.6548631}\n",
      "{'roberta_neg': 0.002331348, 'roberta_neu': 0.0460518, 'roberta_pos': 0.9516168}\n",
      "{'roberta_neg': 0.041712917, 'roberta_neu': 0.8776152, 'roberta_pos': 0.080671825}\n",
      "{'roberta_neg': 0.0018130045, 'roberta_neu': 0.0076348977, 'roberta_pos': 0.99055207}\n",
      "{'roberta_neg': 0.003140755, 'roberta_neu': 0.03168843, 'roberta_pos': 0.96517074}\n",
      "{'roberta_neg': 0.0014235992, 'roberta_neu': 0.005913245, 'roberta_pos': 0.99266315}\n",
      "{'roberta_neg': 0.044282354, 'roberta_neu': 0.53900677, 'roberta_pos': 0.41671088}\n",
      "{'roberta_neg': 0.0018241544, 'roberta_neu': 0.014747312, 'roberta_pos': 0.98342854}\n",
      "{'roberta_neg': 0.00172224, 'roberta_neu': 0.0065096254, 'roberta_pos': 0.9917681}\n",
      "{'roberta_neg': 0.019600082, 'roberta_neu': 0.24268639, 'roberta_pos': 0.7377135}\n",
      "{'roberta_neg': 0.021044137, 'roberta_neu': 0.07798433, 'roberta_pos': 0.90097153}\n",
      "{'roberta_neg': 0.00252689, 'roberta_neu': 0.029688718, 'roberta_pos': 0.9677844}\n",
      "{'roberta_neg': 0.0017760505, 'roberta_neu': 0.038673054, 'roberta_pos': 0.9595509}\n",
      "{'roberta_neg': 0.0016797589, 'roberta_neu': 0.03080581, 'roberta_pos': 0.9675144}\n",
      "{'roberta_neg': 0.0011919835, 'roberta_neu': 0.008271449, 'roberta_pos': 0.99053663}\n",
      "{'roberta_neg': 0.0014688033, 'roberta_neu': 0.027773492, 'roberta_pos': 0.9707578}\n",
      "{'roberta_neg': 0.0014583925, 'roberta_neu': 0.03573799, 'roberta_pos': 0.96280354}\n",
      "{'roberta_neg': 0.0021922544, 'roberta_neu': 0.039947867, 'roberta_pos': 0.9578599}\n",
      "{'roberta_neg': 0.008860217, 'roberta_neu': 0.1379124, 'roberta_pos': 0.8532274}\n",
      "{'roberta_neg': 0.0074879956, 'roberta_neu': 0.094993025, 'roberta_pos': 0.89751893}\n",
      "{'roberta_neg': 0.0016730925, 'roberta_neu': 0.016106455, 'roberta_pos': 0.9822205}\n",
      "{'roberta_neg': 0.121437795, 'roberta_neu': 0.7802475, 'roberta_pos': 0.0983147}\n",
      "{'roberta_neg': 0.0067887614, 'roberta_neu': 0.17581822, 'roberta_pos': 0.817393}\n",
      "{'roberta_neg': 0.0055369018, 'roberta_neu': 0.049367875, 'roberta_pos': 0.9450953}\n",
      "{'roberta_neg': 0.058850687, 'roberta_neu': 0.3619085, 'roberta_pos': 0.5792408}\n",
      "{'roberta_neg': 0.0029808288, 'roberta_neu': 0.064836, 'roberta_pos': 0.93218315}\n",
      "{'roberta_neg': 0.0012449884, 'roberta_neu': 0.014253812, 'roberta_pos': 0.98450124}\n",
      "{'roberta_neg': 0.009583549, 'roberta_neu': 0.220781, 'roberta_pos': 0.7696355}\n",
      "{'roberta_neg': 0.001449325, 'roberta_neu': 0.0084685, 'roberta_pos': 0.9900822}\n",
      "{'roberta_neg': 0.0030314997, 'roberta_neu': 0.03029682, 'roberta_pos': 0.9666717}\n",
      "{'roberta_neg': 0.0018605118, 'roberta_neu': 0.046228074, 'roberta_pos': 0.9519114}\n",
      "{'roberta_neg': 0.0071991365, 'roberta_neu': 0.097016566, 'roberta_pos': 0.8957843}\n",
      "{'roberta_neg': 0.007535772, 'roberta_neu': 0.0525525, 'roberta_pos': 0.9399117}\n",
      "{'roberta_neg': 0.0039660246, 'roberta_neu': 0.03648932, 'roberta_pos': 0.95954466}\n",
      "{'roberta_neg': 0.00675816, 'roberta_neu': 0.12387527, 'roberta_pos': 0.8693665}\n",
      "{'roberta_neg': 0.0061390093, 'roberta_neu': 0.07034476, 'roberta_pos': 0.9235162}\n",
      "{'roberta_neg': 0.0019771473, 'roberta_neu': 0.030365905, 'roberta_pos': 0.9676569}\n",
      "{'roberta_neg': 0.0020184712, 'roberta_neu': 0.031945445, 'roberta_pos': 0.9660361}\n",
      "{'roberta_neg': 0.0037416276, 'roberta_neu': 0.03854693, 'roberta_pos': 0.95771146}\n",
      "{'roberta_neg': 0.0019160076, 'roberta_neu': 0.035828706, 'roberta_pos': 0.9622553}\n",
      "{'roberta_neg': 0.034428842, 'roberta_neu': 0.17216721, 'roberta_pos': 0.7934039}\n",
      "{'roberta_neg': 0.005504247, 'roberta_neu': 0.14659482, 'roberta_pos': 0.8479009}\n",
      "{'roberta_neg': 0.0036663648, 'roberta_neu': 0.1010571, 'roberta_pos': 0.89527655}\n",
      "{'roberta_neg': 0.63241583, 'roberta_neu': 0.31858686, 'roberta_pos': 0.048997276}\n",
      "{'roberta_neg': 0.005050304, 'roberta_neu': 0.03666314, 'roberta_pos': 0.9582866}\n",
      "{'roberta_neg': 0.0054304767, 'roberta_neu': 0.0662405, 'roberta_pos': 0.92832905}\n",
      "{'roberta_neg': 0.001651273, 'roberta_neu': 0.012652367, 'roberta_pos': 0.9856963}\n",
      "{'roberta_neg': 0.0019032932, 'roberta_neu': 0.018469425, 'roberta_pos': 0.97962725}\n",
      "{'roberta_neg': 0.001640368, 'roberta_neu': 0.008588957, 'roberta_pos': 0.98977065}\n",
      "{'roberta_neg': 0.0022971341, 'roberta_neu': 0.08809798, 'roberta_pos': 0.90960485}\n",
      "{'roberta_neg': 0.0025452178, 'roberta_neu': 0.030792156, 'roberta_pos': 0.9666626}\n",
      "{'roberta_neg': 0.0030878093, 'roberta_neu': 0.04138052, 'roberta_pos': 0.9555317}\n",
      "{'roberta_neg': 0.0022038184, 'roberta_neu': 0.008595086, 'roberta_pos': 0.98920107}\n",
      "{'roberta_neg': 0.15803, 'roberta_neu': 0.7040832, 'roberta_pos': 0.13788676}\n",
      "{'roberta_neg': 0.003170756, 'roberta_neu': 0.1573388, 'roberta_pos': 0.8394904}\n",
      "{'roberta_neg': 0.005223328, 'roberta_neu': 0.03635244, 'roberta_pos': 0.9584242}\n",
      "{'roberta_neg': 0.3085139, 'roberta_neu': 0.454203, 'roberta_pos': 0.23728302}\n",
      "{'roberta_neg': 0.00518144, 'roberta_neu': 0.14911239, 'roberta_pos': 0.8457062}\n",
      "{'roberta_neg': 0.001807931, 'roberta_neu': 0.011515304, 'roberta_pos': 0.9866767}\n",
      "{'roberta_neg': 0.0012540353, 'roberta_neu': 0.025790496, 'roberta_pos': 0.97295547}\n",
      "{'roberta_neg': 0.0017318397, 'roberta_neu': 0.01035862, 'roberta_pos': 0.98790956}\n",
      "{'roberta_neg': 0.018334122, 'roberta_neu': 0.11577799, 'roberta_pos': 0.8658878}\n",
      "{'roberta_neg': 0.0015004475, 'roberta_neu': 0.013077485, 'roberta_pos': 0.985422}\n",
      "{'roberta_neg': 0.0013346156, 'roberta_neu': 0.024454767, 'roberta_pos': 0.9742106}\n",
      "{'roberta_neg': 0.033982385, 'roberta_neu': 0.25111136, 'roberta_pos': 0.7149062}\n",
      "{'roberta_neg': 0.03513832, 'roberta_neu': 0.097604565, 'roberta_pos': 0.8672571}\n",
      "{'roberta_neg': 0.004872256, 'roberta_neu': 0.081797525, 'roberta_pos': 0.91333026}\n",
      "{'roberta_neg': 0.57380134, 'roberta_neu': 0.31998834, 'roberta_pos': 0.106210336}\n",
      "{'roberta_neg': 0.004308279, 'roberta_neu': 0.04740695, 'roberta_pos': 0.9482848}\n",
      "{'roberta_neg': 0.0024183597, 'roberta_neu': 0.046075154, 'roberta_pos': 0.9515065}\n",
      "{'roberta_neg': 0.0074274032, 'roberta_neu': 0.14655975, 'roberta_pos': 0.84601283}\n",
      "{'roberta_neg': 0.046688065, 'roberta_neu': 0.88925296, 'roberta_pos': 0.06405898}\n",
      "{'roberta_neg': 0.751251, 'roberta_neu': 0.22654313, 'roberta_pos': 0.022205876}\n",
      "{'roberta_neg': 0.016552199, 'roberta_neu': 0.17818582, 'roberta_pos': 0.80526197}\n",
      "{'roberta_neg': 0.10669598, 'roberta_neu': 0.25616923, 'roberta_pos': 0.63713473}\n",
      "{'roberta_neg': 0.006531724, 'roberta_neu': 0.062024985, 'roberta_pos': 0.9314433}\n",
      "{'roberta_neg': 0.0018560542, 'roberta_neu': 0.020457244, 'roberta_pos': 0.97768676}\n",
      "{'roberta_neg': 0.34854692, 'roberta_neu': 0.36601135, 'roberta_pos': 0.2854417}\n",
      "{'roberta_neg': 0.0019386597, 'roberta_neu': 0.010881628, 'roberta_pos': 0.9871797}\n",
      "{'roberta_neg': 0.16903675, 'roberta_neu': 0.23686905, 'roberta_pos': 0.5940942}\n",
      "{'roberta_neg': 0.07880597, 'roberta_neu': 0.14945284, 'roberta_pos': 0.7717412}\n",
      "{'roberta_neg': 0.0021108885, 'roberta_neu': 0.03210705, 'roberta_pos': 0.96578205}\n",
      "{'roberta_neg': 0.002926589, 'roberta_neu': 0.029003767, 'roberta_pos': 0.9680696}\n",
      "{'roberta_neg': 0.023549927, 'roberta_neu': 0.8218572, 'roberta_pos': 0.15459278}\n",
      "{'roberta_neg': 0.95969033, 'roberta_neu': 0.03637939, 'roberta_pos': 0.0039302576}\n",
      "{'roberta_neg': 0.008688162, 'roberta_neu': 0.04597675, 'roberta_pos': 0.94533515}\n",
      "{'roberta_neg': 0.0046240026, 'roberta_neu': 0.1578896, 'roberta_pos': 0.8374864}\n",
      "{'roberta_neg': 0.0029705581, 'roberta_neu': 0.019775068, 'roberta_pos': 0.9772544}\n",
      "{'roberta_neg': 0.02726865, 'roberta_neu': 0.12242912, 'roberta_pos': 0.8503022}\n",
      "{'roberta_neg': 0.5700249, 'roberta_neu': 0.38167566, 'roberta_pos': 0.048299477}\n",
      "{'roberta_neg': 0.0016553331, 'roberta_neu': 0.017075738, 'roberta_pos': 0.98126894}\n",
      "{'roberta_neg': 0.15718438, 'roberta_neu': 0.43628052, 'roberta_pos': 0.4065351}\n",
      "{'roberta_neg': 0.7273138, 'roberta_neu': 0.26541314, 'roberta_pos': 0.0072730198}\n",
      "{'roberta_neg': 0.0022206474, 'roberta_neu': 0.026846424, 'roberta_pos': 0.9709329}\n",
      "{'roberta_neg': 0.0027991168, 'roberta_neu': 0.1260653, 'roberta_pos': 0.8711356}\n",
      "{'roberta_neg': 0.0011358667, 'roberta_neu': 0.018672463, 'roberta_pos': 0.9801917}\n",
      "{'roberta_neg': 0.0013959489, 'roberta_neu': 0.008823766, 'roberta_pos': 0.9897803}\n",
      "{'roberta_neg': 0.03143378, 'roberta_neu': 0.29003626, 'roberta_pos': 0.67853}\n",
      "{'roberta_neg': 0.0027511884, 'roberta_neu': 0.09539503, 'roberta_pos': 0.90185374}\n",
      "{'roberta_neg': 0.46830374, 'roberta_neu': 0.42337927, 'roberta_pos': 0.108316965}\n",
      "{'roberta_neg': 0.04177351, 'roberta_neu': 0.39303428, 'roberta_pos': 0.5651922}\n",
      "{'roberta_neg': 0.0016173578, 'roberta_neu': 0.0093669295, 'roberta_pos': 0.98901576}\n",
      "{'roberta_neg': 0.014397646, 'roberta_neu': 0.08895571, 'roberta_pos': 0.8966466}\n",
      "{'roberta_neg': 0.52851933, 'roberta_neu': 0.42886105, 'roberta_pos': 0.042619586}\n",
      "{'roberta_neg': 0.6608598, 'roberta_neu': 0.30986112, 'roberta_pos': 0.029279087}\n",
      "{'roberta_neg': 0.07671074, 'roberta_neu': 0.5879795, 'roberta_pos': 0.33530974}\n",
      "{'roberta_neg': 0.328343, 'roberta_neu': 0.32820928, 'roberta_pos': 0.34344774}\n",
      "{'roberta_neg': 0.001800702, 'roberta_neu': 0.011153836, 'roberta_pos': 0.98704547}\n",
      "{'roberta_neg': 0.0042636357, 'roberta_neu': 0.027355991, 'roberta_pos': 0.96838045}\n",
      "{'roberta_neg': 0.0020566126, 'roberta_neu': 0.018719591, 'roberta_pos': 0.97922385}\n",
      "{'roberta_neg': 0.0016106903, 'roberta_neu': 0.03580797, 'roberta_pos': 0.9625814}\n",
      "{'roberta_neg': 0.0012317651, 'roberta_neu': 0.012466242, 'roberta_pos': 0.986302}\n",
      "{'roberta_neg': 0.47070628, 'roberta_neu': 0.50478846, 'roberta_pos': 0.024505243}\n",
      "{'roberta_neg': 0.005434779, 'roberta_neu': 0.050989274, 'roberta_pos': 0.9435759}\n",
      "{'roberta_neg': 0.08875047, 'roberta_neu': 0.6103046, 'roberta_pos': 0.30094492}\n",
      "{'roberta_neg': 0.14953986, 'roberta_neu': 0.37095842, 'roberta_pos': 0.47950175}\n",
      "{'roberta_neg': 0.019646335, 'roberta_neu': 0.17391364, 'roberta_pos': 0.80644}\n",
      "{'roberta_neg': 0.011683602, 'roberta_neu': 0.09081516, 'roberta_pos': 0.8975013}\n",
      "{'roberta_neg': 0.001887546, 'roberta_neu': 0.036038503, 'roberta_pos': 0.962074}\n",
      "{'roberta_neg': 0.0054608593, 'roberta_neu': 0.062171977, 'roberta_pos': 0.93236715}\n",
      "{'roberta_neg': 0.0014498183, 'roberta_neu': 0.0074176136, 'roberta_pos': 0.99113256}\n",
      "{'roberta_neg': 0.0024141078, 'roberta_neu': 0.01775516, 'roberta_pos': 0.9798307}\n",
      "{'roberta_neg': 0.008415148, 'roberta_neu': 0.140853, 'roberta_pos': 0.85073185}\n",
      "{'roberta_neg': 0.0011386045, 'roberta_neu': 0.012812319, 'roberta_pos': 0.98604906}\n",
      "{'roberta_neg': 0.0071293013, 'roberta_neu': 0.118335985, 'roberta_pos': 0.8745347}\n",
      "{'roberta_neg': 0.0017939265, 'roberta_neu': 0.007912809, 'roberta_pos': 0.99029326}\n",
      "{'roberta_neg': 0.0020573928, 'roberta_neu': 0.034008473, 'roberta_pos': 0.9639341}\n",
      "{'roberta_neg': 0.16993877, 'roberta_neu': 0.41813123, 'roberta_pos': 0.41192997}\n",
      "{'roberta_neg': 0.9149927, 'roberta_neu': 0.076281935, 'roberta_pos': 0.008725377}\n",
      "{'roberta_neg': 0.005558554, 'roberta_neu': 0.06406205, 'roberta_pos': 0.93037945}\n",
      "{'roberta_neg': 0.0032257722, 'roberta_neu': 0.29204956, 'roberta_pos': 0.70472467}\n",
      "{'roberta_neg': 0.0020431492, 'roberta_neu': 0.03588554, 'roberta_pos': 0.96207136}\n",
      "{'roberta_neg': 0.010011947, 'roberta_neu': 0.14483996, 'roberta_pos': 0.8451481}\n",
      "{'roberta_neg': 0.6546406, 'roberta_neu': 0.22615194, 'roberta_pos': 0.1192074}\n",
      "{'roberta_neg': 0.10542335, 'roberta_neu': 0.7579153, 'roberta_pos': 0.1366613}\n",
      "{'roberta_neg': 0.6276914, 'roberta_neu': 0.3542392, 'roberta_pos': 0.018069332}\n",
      "{'roberta_neg': 0.013208651, 'roberta_neu': 0.069776624, 'roberta_pos': 0.9170148}\n",
      "{'roberta_neg': 0.16295286, 'roberta_neu': 0.37421387, 'roberta_pos': 0.46283323}\n",
      "{'roberta_neg': 0.0020610094, 'roberta_neu': 0.013787573, 'roberta_pos': 0.98415136}\n",
      "{'roberta_neg': 0.011413591, 'roberta_neu': 0.16183668, 'roberta_pos': 0.82674974}\n",
      "{'roberta_neg': 0.0037088455, 'roberta_neu': 0.026341466, 'roberta_pos': 0.9699497}\n",
      "{'roberta_neg': 0.0068006236, 'roberta_neu': 0.053148363, 'roberta_pos': 0.940051}\n",
      "{'roberta_neg': 0.0013924536, 'roberta_neu': 0.0148019465, 'roberta_pos': 0.98380554}\n",
      "{'roberta_neg': 0.0055840695, 'roberta_neu': 0.03557591, 'roberta_pos': 0.95883995}\n",
      "{'roberta_neg': 0.84028536, 'roberta_neu': 0.15055113, 'roberta_pos': 0.009163523}\n",
      "{'roberta_neg': 0.7952551, 'roberta_neu': 0.18987906, 'roberta_pos': 0.014865754}\n",
      "{'roberta_neg': 0.0031010052, 'roberta_neu': 0.13186175, 'roberta_pos': 0.86503726}\n",
      "{'roberta_neg': 0.006146965, 'roberta_neu': 0.042004753, 'roberta_pos': 0.9518482}\n",
      "{'roberta_neg': 0.0018038308, 'roberta_neu': 0.023125924, 'roberta_pos': 0.97507024}\n",
      "{'roberta_neg': 0.0012279865, 'roberta_neu': 0.0058589187, 'roberta_pos': 0.99291307}\n",
      "{'roberta_neg': 0.001862115, 'roberta_neu': 0.026433257, 'roberta_pos': 0.97170466}\n",
      "{'roberta_neg': 0.0037273688, 'roberta_neu': 0.035126876, 'roberta_pos': 0.96114576}\n",
      "{'roberta_neg': 0.9243806, 'roberta_neu': 0.066063225, 'roberta_pos': 0.009556254}\n",
      "{'roberta_neg': 0.5713849, 'roberta_neu': 0.3529839, 'roberta_pos': 0.075631216}\n",
      "{'roberta_neg': 0.0019129227, 'roberta_neu': 0.011393231, 'roberta_pos': 0.9866939}\n",
      "{'roberta_neg': 0.0015722149, 'roberta_neu': 0.010346845, 'roberta_pos': 0.988081}\n",
      "{'roberta_neg': 0.0024375338, 'roberta_neu': 0.026453888, 'roberta_pos': 0.9711086}\n",
      "{'roberta_neg': 0.00861354, 'roberta_neu': 0.23538062, 'roberta_pos': 0.7560059}\n",
      "{'roberta_neg': 0.004593328, 'roberta_neu': 0.029867774, 'roberta_pos': 0.9655389}\n",
      "{'roberta_neg': 0.0033759135, 'roberta_neu': 0.03142374, 'roberta_pos': 0.9652003}\n",
      "{'roberta_neg': 0.0014895785, 'roberta_neu': 0.007785026, 'roberta_pos': 0.99072546}\n",
      "{'roberta_neg': 0.0039123325, 'roberta_neu': 0.04198292, 'roberta_pos': 0.9541047}\n",
      "{'roberta_neg': 0.0016805475, 'roberta_neu': 0.025234358, 'roberta_pos': 0.97308517}\n",
      "{'roberta_neg': 0.1053918, 'roberta_neu': 0.24237397, 'roberta_pos': 0.6522342}\n",
      "{'roberta_neg': 0.004558693, 'roberta_neu': 0.05500803, 'roberta_pos': 0.9404332}\n",
      "{'roberta_neg': 0.0030708972, 'roberta_neu': 0.012876511, 'roberta_pos': 0.98405266}\n",
      "{'roberta_neg': 0.009209665, 'roberta_neu': 0.2448239, 'roberta_pos': 0.7459665}\n",
      "{'roberta_neg': 0.3575619, 'roberta_neu': 0.5844169, 'roberta_pos': 0.05802118}\n",
      "{'roberta_neg': 0.0012602299, 'roberta_neu': 0.015954835, 'roberta_pos': 0.9827849}\n",
      "{'roberta_neg': 0.62011325, 'roberta_neu': 0.2899872, 'roberta_pos': 0.08989953}\n",
      "{'roberta_neg': 0.0031308604, 'roberta_neu': 0.041743234, 'roberta_pos': 0.95512587}\n",
      "{'roberta_neg': 0.008271494, 'roberta_neu': 0.33668107, 'roberta_pos': 0.6550474}\n",
      "{'roberta_neg': 0.0026253185, 'roberta_neu': 0.028599871, 'roberta_pos': 0.96877486}\n",
      "{'roberta_neg': 0.0019168588, 'roberta_neu': 0.023553615, 'roberta_pos': 0.97452956}\n",
      "{'roberta_neg': 0.0017651292, 'roberta_neu': 0.011593993, 'roberta_pos': 0.9866409}\n",
      "{'roberta_neg': 0.0019046993, 'roberta_neu': 0.01124196, 'roberta_pos': 0.98685336}\n",
      "{'roberta_neg': 0.047020018, 'roberta_neu': 0.315759, 'roberta_pos': 0.637221}\n",
      "{'roberta_neg': 0.015581703, 'roberta_neu': 0.18217799, 'roberta_pos': 0.8022403}\n",
      "{'roberta_neg': 0.01701719, 'roberta_neu': 0.12935212, 'roberta_pos': 0.85363066}\n",
      "{'roberta_neg': 0.0038794882, 'roberta_neu': 0.18633443, 'roberta_pos': 0.8097861}\n",
      "{'roberta_neg': 0.0023368322, 'roberta_neu': 0.0435639, 'roberta_pos': 0.9540993}\n",
      "{'roberta_neg': 0.0013132028, 'roberta_neu': 0.01086196, 'roberta_pos': 0.9878249}\n",
      "{'roberta_neg': 0.3386277, 'roberta_neu': 0.4834271, 'roberta_pos': 0.17794524}\n",
      "{'roberta_neg': 0.0016943098, 'roberta_neu': 0.016614875, 'roberta_pos': 0.9816908}\n",
      "{'roberta_neg': 0.057130862, 'roberta_neu': 0.16242805, 'roberta_pos': 0.7804411}\n",
      "{'roberta_neg': 0.001953857, 'roberta_neu': 0.03772979, 'roberta_pos': 0.9603163}\n",
      "{'roberta_neg': 0.27370703, 'roberta_neu': 0.5923288, 'roberta_pos': 0.1339642}\n",
      "{'roberta_neg': 0.0018402394, 'roberta_neu': 0.027848592, 'roberta_pos': 0.97031116}\n",
      "{'roberta_neg': 0.0018806257, 'roberta_neu': 0.04317983, 'roberta_pos': 0.95493954}\n",
      "{'roberta_neg': 0.03396081, 'roberta_neu': 0.49931014, 'roberta_pos': 0.46672904}\n",
      "{'roberta_neg': 0.6432008, 'roberta_neu': 0.33005065, 'roberta_pos': 0.026748557}\n",
      "{'roberta_neg': 0.046873648, 'roberta_neu': 0.1766555, 'roberta_pos': 0.77647084}\n",
      "{'roberta_neg': 0.0022352247, 'roberta_neu': 0.01007046, 'roberta_pos': 0.98769426}\n",
      "{'roberta_neg': 0.13398105, 'roberta_neu': 0.7962323, 'roberta_pos': 0.0697867}\n",
      "{'roberta_neg': 0.0019050848, 'roberta_neu': 0.15219231, 'roberta_pos': 0.8459026}\n",
      "{'roberta_neg': 0.013594942, 'roberta_neu': 0.096730754, 'roberta_pos': 0.8896743}\n",
      "{'roberta_neg': 0.0024156927, 'roberta_neu': 0.04379528, 'roberta_pos': 0.95378906}\n",
      "{'roberta_neg': 0.024579281, 'roberta_neu': 0.56309557, 'roberta_pos': 0.4123251}\n",
      "{'roberta_neg': 0.0024321973, 'roberta_neu': 0.030167745, 'roberta_pos': 0.9674}\n",
      "{'roberta_neg': 0.008966757, 'roberta_neu': 0.24599679, 'roberta_pos': 0.7450364}\n",
      "{'roberta_neg': 0.005879563, 'roberta_neu': 0.01918904, 'roberta_pos': 0.97493136}\n",
      "{'roberta_neg': 0.12869425, 'roberta_neu': 0.32314506, 'roberta_pos': 0.5481607}\n",
      "{'roberta_neg': 0.0053187218, 'roberta_neu': 0.088427566, 'roberta_pos': 0.9062537}\n",
      "{'roberta_neg': 0.004852124, 'roberta_neu': 0.07121993, 'roberta_pos': 0.92392796}\n",
      "{'roberta_neg': 0.0020631833, 'roberta_neu': 0.010892475, 'roberta_pos': 0.9870444}\n",
      "{'roberta_neg': 0.0022023122, 'roberta_neu': 0.038584266, 'roberta_pos': 0.9592134}\n",
      "{'roberta_neg': 0.005742139, 'roberta_neu': 0.07500585, 'roberta_pos': 0.919252}\n",
      "{'roberta_neg': 0.002682517, 'roberta_neu': 0.023748832, 'roberta_pos': 0.9735686}\n",
      "{'roberta_neg': 0.0019708122, 'roberta_neu': 0.009288803, 'roberta_pos': 0.9887404}\n",
      "{'roberta_neg': 0.041207857, 'roberta_neu': 0.42059022, 'roberta_pos': 0.5382019}\n",
      "Broke for id 330\n",
      "{'roberta_neg': 0.0062406147, 'roberta_neu': 0.022581004, 'roberta_pos': 0.9711784}\n",
      "{'roberta_neg': 0.9658291, 'roberta_neu': 0.031582456, 'roberta_pos': 0.0025885073}\n",
      "{'roberta_neg': 0.010552815, 'roberta_neu': 0.08807639, 'roberta_pos': 0.90137076}\n",
      "{'roberta_neg': 0.9255281, 'roberta_neu': 0.06551542, 'roberta_pos': 0.008956446}\n",
      "{'roberta_neg': 0.05827514, 'roberta_neu': 0.20778848, 'roberta_pos': 0.73393637}\n",
      "{'roberta_neg': 0.0011389714, 'roberta_neu': 0.016246913, 'roberta_pos': 0.9826141}\n",
      "{'roberta_neg': 0.77177006, 'roberta_neu': 0.20952196, 'roberta_pos': 0.018708032}\n",
      "{'roberta_neg': 0.58783233, 'roberta_neu': 0.29851532, 'roberta_pos': 0.113652356}\n",
      "{'roberta_neg': 0.26590633, 'roberta_neu': 0.5072679, 'roberta_pos': 0.2268258}\n",
      "{'roberta_neg': 0.0014106454, 'roberta_neu': 0.0098957, 'roberta_pos': 0.98869365}\n",
      "{'roberta_neg': 0.016176105, 'roberta_neu': 0.059213016, 'roberta_pos': 0.92461085}\n",
      "{'roberta_neg': 0.3716834, 'roberta_neu': 0.5453697, 'roberta_pos': 0.082946934}\n",
      "{'roberta_neg': 0.003868079, 'roberta_neu': 0.050124303, 'roberta_pos': 0.9460076}\n",
      "{'roberta_neg': 0.0012353484, 'roberta_neu': 0.01679312, 'roberta_pos': 0.98197156}\n",
      "{'roberta_neg': 0.005402053, 'roberta_neu': 0.039064832, 'roberta_pos': 0.9555331}\n",
      "{'roberta_neg': 0.20736238, 'roberta_neu': 0.5038963, 'roberta_pos': 0.28874126}\n",
      "{'roberta_neg': 0.0063351598, 'roberta_neu': 0.13425699, 'roberta_pos': 0.85940784}\n",
      "{'roberta_neg': 0.0031111822, 'roberta_neu': 0.020031106, 'roberta_pos': 0.97685766}\n",
      "{'roberta_neg': 0.004965003, 'roberta_neu': 0.051995125, 'roberta_pos': 0.94303983}\n",
      "{'roberta_neg': 0.0026624876, 'roberta_neu': 0.069356665, 'roberta_pos': 0.92798084}\n",
      "{'roberta_neg': 0.009891755, 'roberta_neu': 0.7020455, 'roberta_pos': 0.28806272}\n",
      "{'roberta_neg': 0.0015296796, 'roberta_neu': 0.015101291, 'roberta_pos': 0.98336905}\n",
      "{'roberta_neg': 0.20177212, 'roberta_neu': 0.45414138, 'roberta_pos': 0.34408647}\n",
      "{'roberta_neg': 0.0030635905, 'roberta_neu': 0.06952681, 'roberta_pos': 0.9274096}\n",
      "{'roberta_neg': 0.0028968388, 'roberta_neu': 0.06772552, 'roberta_pos': 0.9293776}\n",
      "{'roberta_neg': 0.0019008283, 'roberta_neu': 0.01974056, 'roberta_pos': 0.97835857}\n",
      "{'roberta_neg': 0.0015000615, 'roberta_neu': 0.014409416, 'roberta_pos': 0.9840905}\n",
      "{'roberta_neg': 0.0026279243, 'roberta_neu': 0.04305009, 'roberta_pos': 0.95432204}\n",
      "{'roberta_neg': 0.0028197865, 'roberta_neu': 0.04439692, 'roberta_pos': 0.9527833}\n",
      "{'roberta_neg': 0.13639383, 'roberta_neu': 0.6735856, 'roberta_pos': 0.19002053}\n",
      "{'roberta_neg': 0.011346231, 'roberta_neu': 0.069876246, 'roberta_pos': 0.9187775}\n",
      "{'roberta_neg': 0.0010319334, 'roberta_neu': 0.013240327, 'roberta_pos': 0.9857277}\n",
      "{'roberta_neg': 0.0014795185, 'roberta_neu': 0.040002216, 'roberta_pos': 0.95851827}\n",
      "{'roberta_neg': 0.78634197, 'roberta_neu': 0.20272876, 'roberta_pos': 0.010929267}\n",
      "{'roberta_neg': 0.0027183832, 'roberta_neu': 0.02238907, 'roberta_pos': 0.9748925}\n",
      "{'roberta_neg': 0.0019001426, 'roberta_neu': 0.058908585, 'roberta_pos': 0.9391912}\n",
      "{'roberta_neg': 0.0025533377, 'roberta_neu': 0.023700895, 'roberta_pos': 0.9737458}\n",
      "{'roberta_neg': 0.0022800888, 'roberta_neu': 0.02308834, 'roberta_pos': 0.97463155}\n",
      "{'roberta_neg': 0.0019461579, 'roberta_neu': 0.078774, 'roberta_pos': 0.9192799}\n",
      "{'roberta_neg': 0.0017441455, 'roberta_neu': 0.03281646, 'roberta_pos': 0.9654394}\n",
      "{'roberta_neg': 0.2189061, 'roberta_neu': 0.39262024, 'roberta_pos': 0.3884737}\n",
      "{'roberta_neg': 0.0033482895, 'roberta_neu': 0.13155362, 'roberta_pos': 0.8650981}\n",
      "{'roberta_neg': 0.002067983, 'roberta_neu': 0.04388698, 'roberta_pos': 0.95404506}\n",
      "{'roberta_neg': 0.0009760425, 'roberta_neu': 0.007435509, 'roberta_pos': 0.9915884}\n",
      "{'roberta_neg': 0.06880568, 'roberta_neu': 0.7828826, 'roberta_pos': 0.14831167}\n",
      "{'roberta_neg': 0.0021612262, 'roberta_neu': 0.10675311, 'roberta_pos': 0.8910856}\n",
      "{'roberta_neg': 0.0014613327, 'roberta_neu': 0.06183114, 'roberta_pos': 0.9367075}\n",
      "{'roberta_neg': 0.0013732733, 'roberta_neu': 0.020132106, 'roberta_pos': 0.97849464}\n",
      "{'roberta_neg': 0.0015677422, 'roberta_neu': 0.012050024, 'roberta_pos': 0.98638225}\n",
      "{'roberta_neg': 0.0039123325, 'roberta_neu': 0.04198292, 'roberta_pos': 0.9541047}\n",
      "{'roberta_neg': 0.0019698457, 'roberta_neu': 0.035973422, 'roberta_pos': 0.9620568}\n",
      "{'roberta_neg': 0.0013134475, 'roberta_neu': 0.018621478, 'roberta_pos': 0.98006505}\n",
      "{'roberta_neg': 0.001113639, 'roberta_neu': 0.030851196, 'roberta_pos': 0.9680351}\n",
      "{'roberta_neg': 0.0015670398, 'roberta_neu': 0.01569423, 'roberta_pos': 0.9827388}\n",
      "{'roberta_neg': 0.008442004, 'roberta_neu': 0.11581043, 'roberta_pos': 0.87574756}\n",
      "{'roberta_neg': 0.49338397, 'roberta_neu': 0.4472326, 'roberta_pos': 0.059383433}\n",
      "{'roberta_neg': 0.004240844, 'roberta_neu': 0.06673108, 'roberta_pos': 0.9290281}\n",
      "{'roberta_neg': 0.0015868408, 'roberta_neu': 0.026177676, 'roberta_pos': 0.97223544}\n",
      "{'roberta_neg': 0.0021041483, 'roberta_neu': 0.008514376, 'roberta_pos': 0.98938143}\n",
      "{'roberta_neg': 0.0063301874, 'roberta_neu': 0.16099137, 'roberta_pos': 0.8326785}\n",
      "{'roberta_neg': 0.0014879692, 'roberta_neu': 0.008017612, 'roberta_pos': 0.9904944}\n",
      "{'roberta_neg': 0.0022150308, 'roberta_neu': 0.020593725, 'roberta_pos': 0.9771912}\n",
      "{'roberta_neg': 0.0011074888, 'roberta_neu': 0.011841846, 'roberta_pos': 0.98705065}\n",
      "{'roberta_neg': 0.00290348, 'roberta_neu': 0.015793892, 'roberta_pos': 0.9813027}\n",
      "{'roberta_neg': 0.0013485291, 'roberta_neu': 0.01710344, 'roberta_pos': 0.9815481}\n",
      "{'roberta_neg': 0.7966843, 'roberta_neu': 0.1904429, 'roberta_pos': 0.012872764}\n",
      "{'roberta_neg': 0.005534165, 'roberta_neu': 0.29056728, 'roberta_pos': 0.70389855}\n",
      "{'roberta_neg': 0.0011900972, 'roberta_neu': 0.013078142, 'roberta_pos': 0.9857318}\n",
      "{'roberta_neg': 0.05740042, 'roberta_neu': 0.66718537, 'roberta_pos': 0.27541426}\n",
      "{'roberta_neg': 0.002212046, 'roberta_neu': 0.0152135985, 'roberta_pos': 0.9825744}\n",
      "{'roberta_neg': 0.0023513904, 'roberta_neu': 0.036913414, 'roberta_pos': 0.96073514}\n",
      "{'roberta_neg': 0.0024066411, 'roberta_neu': 0.02687767, 'roberta_pos': 0.97071576}\n",
      "{'roberta_neg': 0.021442037, 'roberta_neu': 0.1318807, 'roberta_pos': 0.84667724}\n",
      "{'roberta_neg': 0.002948562, 'roberta_neu': 0.056820743, 'roberta_pos': 0.9402307}\n",
      "{'roberta_neg': 0.004046536, 'roberta_neu': 0.15875529, 'roberta_pos': 0.83719814}\n",
      "{'roberta_neg': 0.0022012217, 'roberta_neu': 0.022208273, 'roberta_pos': 0.97559047}\n",
      "{'roberta_neg': 0.0049989354, 'roberta_neu': 0.03203127, 'roberta_pos': 0.9629698}\n",
      "{'roberta_neg': 0.002639295, 'roberta_neu': 0.16211706, 'roberta_pos': 0.8352437}\n",
      "{'roberta_neg': 0.0031264103, 'roberta_neu': 0.21146432, 'roberta_pos': 0.7854093}\n",
      "{'roberta_neg': 0.07372947, 'roberta_neu': 0.1896412, 'roberta_pos': 0.7366293}\n",
      "{'roberta_neg': 0.013807253, 'roberta_neu': 0.1304647, 'roberta_pos': 0.85572803}\n",
      "{'roberta_neg': 0.0040849317, 'roberta_neu': 0.048751347, 'roberta_pos': 0.94716376}\n",
      "{'roberta_neg': 0.002982792, 'roberta_neu': 0.04467401, 'roberta_pos': 0.95234317}\n",
      "{'roberta_neg': 0.0014678856, 'roberta_neu': 0.03493366, 'roberta_pos': 0.96359843}\n",
      "{'roberta_neg': 0.0077102873, 'roberta_neu': 0.1624156, 'roberta_pos': 0.8298741}\n",
      "{'roberta_neg': 0.0016584387, 'roberta_neu': 0.01774298, 'roberta_pos': 0.98059857}\n",
      "{'roberta_neg': 0.0018005809, 'roberta_neu': 0.033752542, 'roberta_pos': 0.96444684}\n",
      "{'roberta_neg': 0.0033551352, 'roberta_neu': 0.039285727, 'roberta_pos': 0.9573592}\n",
      "{'roberta_neg': 0.0027160356, 'roberta_neu': 0.040234156, 'roberta_pos': 0.95704985}\n",
      "{'roberta_neg': 0.001956249, 'roberta_neu': 0.019694397, 'roberta_pos': 0.9783493}\n",
      "{'roberta_neg': 0.011338247, 'roberta_neu': 0.057592392, 'roberta_pos': 0.9310694}\n",
      "{'roberta_neg': 0.0025660717, 'roberta_neu': 0.059666824, 'roberta_pos': 0.9377671}\n",
      "{'roberta_neg': 0.027647711, 'roberta_neu': 0.25875768, 'roberta_pos': 0.71359456}\n",
      "{'roberta_neg': 0.001390568, 'roberta_neu': 0.008739227, 'roberta_pos': 0.98987025}\n",
      "{'roberta_neg': 0.002501414, 'roberta_neu': 0.03079759, 'roberta_pos': 0.96670103}\n",
      "{'roberta_neg': 0.0047915196, 'roberta_neu': 0.4519904, 'roberta_pos': 0.5432181}\n",
      "{'roberta_neg': 0.0012708589, 'roberta_neu': 0.008164929, 'roberta_pos': 0.9905642}\n",
      "{'roberta_neg': 0.005150378, 'roberta_neu': 0.028354347, 'roberta_pos': 0.9664953}\n",
      "{'roberta_neg': 0.0018716044, 'roberta_neu': 0.016226172, 'roberta_pos': 0.98190224}\n",
      "{'roberta_neg': 0.0015664507, 'roberta_neu': 0.0093230335, 'roberta_pos': 0.9891105}\n",
      "{'roberta_neg': 0.018007722, 'roberta_neu': 0.07761739, 'roberta_pos': 0.9043749}\n",
      "{'roberta_neg': 0.001650569, 'roberta_neu': 0.008189816, 'roberta_pos': 0.9901597}\n",
      "{'roberta_neg': 0.0023592145, 'roberta_neu': 0.021510234, 'roberta_pos': 0.97613055}\n",
      "{'roberta_neg': 0.0015557343, 'roberta_neu': 0.017856343, 'roberta_pos': 0.9805879}\n",
      "{'roberta_neg': 0.0063778413, 'roberta_neu': 0.06034078, 'roberta_pos': 0.93328136}\n",
      "{'roberta_neg': 0.0014648805, 'roberta_neu': 0.0067084623, 'roberta_pos': 0.99182665}\n",
      "{'roberta_neg': 0.0049426304, 'roberta_neu': 0.0525315, 'roberta_pos': 0.9425258}\n",
      "{'roberta_neg': 0.0016418564, 'roberta_neu': 0.011887656, 'roberta_pos': 0.9864705}\n",
      "{'roberta_neg': 0.00164717, 'roberta_neu': 0.042241834, 'roberta_pos': 0.956111}\n",
      "{'roberta_neg': 0.002490391, 'roberta_neu': 0.019782683, 'roberta_pos': 0.977727}\n",
      "{'roberta_neg': 0.0011546017, 'roberta_neu': 0.013988253, 'roberta_pos': 0.9848571}\n",
      "{'roberta_neg': 0.0014209282, 'roberta_neu': 0.0055620316, 'roberta_pos': 0.9930171}\n",
      "{'roberta_neg': 0.009166988, 'roberta_neu': 0.07020352, 'roberta_pos': 0.92062944}\n",
      "{'roberta_neg': 0.001747568, 'roberta_neu': 0.008963582, 'roberta_pos': 0.9892889}\n",
      "{'roberta_neg': 0.001748196, 'roberta_neu': 0.042635594, 'roberta_pos': 0.9556162}\n",
      "{'roberta_neg': 0.0016113347, 'roberta_neu': 0.012141773, 'roberta_pos': 0.98624694}\n",
      "{'roberta_neg': 0.0021516825, 'roberta_neu': 0.024658661, 'roberta_pos': 0.9731897}\n",
      "{'roberta_neg': 0.0033984226, 'roberta_neu': 0.054486107, 'roberta_pos': 0.9421154}\n",
      "{'roberta_neg': 0.003405211, 'roberta_neu': 0.08161494, 'roberta_pos': 0.9149798}\n",
      "{'roberta_neg': 0.0016681394, 'roberta_neu': 0.007492873, 'roberta_pos': 0.99083894}\n",
      "{'roberta_neg': 0.0063787, 'roberta_neu': 0.066378295, 'roberta_pos': 0.927243}\n",
      "{'roberta_neg': 0.0034856473, 'roberta_neu': 0.052317657, 'roberta_pos': 0.9441967}\n",
      "{'roberta_neg': 0.001642363, 'roberta_neu': 0.030231083, 'roberta_pos': 0.9681265}\n",
      "{'roberta_neg': 0.0019286299, 'roberta_neu': 0.026887508, 'roberta_pos': 0.97118384}\n",
      "{'roberta_neg': 0.0024274574, 'roberta_neu': 0.010657568, 'roberta_pos': 0.98691505}\n",
      "{'roberta_neg': 0.0015644633, 'roberta_neu': 0.014972948, 'roberta_pos': 0.9834626}\n",
      "{'roberta_neg': 0.0056744693, 'roberta_neu': 0.06190519, 'roberta_pos': 0.9324203}\n",
      "{'roberta_neg': 0.0037768018, 'roberta_neu': 0.059150703, 'roberta_pos': 0.93707246}\n",
      "{'roberta_neg': 0.0031270173, 'roberta_neu': 0.017366463, 'roberta_pos': 0.9795065}\n",
      "{'roberta_neg': 0.010923723, 'roberta_neu': 0.09714824, 'roberta_pos': 0.891928}\n",
      "{'roberta_neg': 0.0011953407, 'roberta_neu': 0.012248199, 'roberta_pos': 0.9865565}\n",
      "{'roberta_neg': 0.0030022068, 'roberta_neu': 0.015218827, 'roberta_pos': 0.981779}\n",
      "{'roberta_neg': 0.001304454, 'roberta_neu': 0.017472329, 'roberta_pos': 0.9812232}\n",
      "{'roberta_neg': 0.0017004103, 'roberta_neu': 0.009207655, 'roberta_pos': 0.9890919}\n",
      "{'roberta_neg': 0.001545264, 'roberta_neu': 0.009654534, 'roberta_pos': 0.98880017}\n",
      "{'roberta_neg': 0.0070874784, 'roberta_neu': 0.19296819, 'roberta_pos': 0.7999443}\n",
      "{'roberta_neg': 0.0013229074, 'roberta_neu': 0.030210245, 'roberta_pos': 0.9684668}\n",
      "{'roberta_neg': 0.0036870982, 'roberta_neu': 0.012535632, 'roberta_pos': 0.9837773}\n",
      "{'roberta_neg': 0.009872094, 'roberta_neu': 0.16705157, 'roberta_pos': 0.8230763}\n",
      "{'roberta_neg': 0.001179586, 'roberta_neu': 0.011521017, 'roberta_pos': 0.9872994}\n",
      "{'roberta_neg': 0.0038937759, 'roberta_neu': 0.07384187, 'roberta_pos': 0.9222643}\n",
      "{'roberta_neg': 0.0015008713, 'roberta_neu': 0.007692009, 'roberta_pos': 0.9908071}\n",
      "{'roberta_neg': 0.001419193, 'roberta_neu': 0.0095250625, 'roberta_pos': 0.98905575}\n",
      "{'roberta_neg': 0.0016239124, 'roberta_neu': 0.024674246, 'roberta_pos': 0.97370183}\n",
      "{'roberta_neg': 0.047949135, 'roberta_neu': 0.57196534, 'roberta_pos': 0.38008553}\n",
      "{'roberta_neg': 0.0010617858, 'roberta_neu': 0.008390204, 'roberta_pos': 0.99054796}\n",
      "{'roberta_neg': 0.0017141828, 'roberta_neu': 0.016046794, 'roberta_pos': 0.982239}\n",
      "{'roberta_neg': 0.0020244617, 'roberta_neu': 0.05009747, 'roberta_pos': 0.94787806}\n",
      "{'roberta_neg': 0.0017165832, 'roberta_neu': 0.0050792866, 'roberta_pos': 0.9932041}\n",
      "{'roberta_neg': 0.001090531, 'roberta_neu': 0.012592628, 'roberta_pos': 0.98631686}\n",
      "{'roberta_neg': 0.003950476, 'roberta_neu': 0.0454309, 'roberta_pos': 0.9506187}\n",
      "{'roberta_neg': 0.0024298646, 'roberta_neu': 0.021771338, 'roberta_pos': 0.97579885}\n",
      "{'roberta_neg': 0.0022601325, 'roberta_neu': 0.0148550775, 'roberta_pos': 0.98288476}\n",
      "{'roberta_neg': 0.0018948562, 'roberta_neu': 0.025606763, 'roberta_pos': 0.9724984}\n",
      "{'roberta_neg': 0.0018932471, 'roberta_neu': 0.016168093, 'roberta_pos': 0.9819387}\n",
      "{'roberta_neg': 0.0015358807, 'roberta_neu': 0.009776282, 'roberta_pos': 0.9886878}\n",
      "{'roberta_neg': 0.0019209645, 'roberta_neu': 0.0185707, 'roberta_pos': 0.9795083}\n",
      "{'roberta_neg': 0.0023152444, 'roberta_neu': 0.016579214, 'roberta_pos': 0.9811055}\n",
      "{'roberta_neg': 0.008226784, 'roberta_neu': 0.050870307, 'roberta_pos': 0.94090295}\n",
      "{'roberta_neg': 0.0043370114, 'roberta_neu': 0.038270503, 'roberta_pos': 0.9573925}\n",
      "{'roberta_neg': 0.024570098, 'roberta_neu': 0.13077454, 'roberta_pos': 0.8446554}\n",
      "{'roberta_neg': 0.44474685, 'roberta_neu': 0.45945776, 'roberta_pos': 0.095795386}\n",
      "{'roberta_neg': 0.001850414, 'roberta_neu': 0.08215475, 'roberta_pos': 0.9159948}\n",
      "{'roberta_neg': 0.0040004323, 'roberta_neu': 0.1299463, 'roberta_pos': 0.8660532}\n",
      "{'roberta_neg': 0.16993903, 'roberta_neu': 0.36478472, 'roberta_pos': 0.4652762}\n",
      "{'roberta_neg': 0.14921871, 'roberta_neu': 0.4312371, 'roberta_pos': 0.41954416}\n",
      "{'roberta_neg': 0.0020921845, 'roberta_neu': 0.008308958, 'roberta_pos': 0.9895989}\n",
      "{'roberta_neg': 0.004860056, 'roberta_neu': 0.07527979, 'roberta_pos': 0.9198602}\n",
      "{'roberta_neg': 0.026612883, 'roberta_neu': 0.37333208, 'roberta_pos': 0.600055}\n"
     ]
    }
   ],
   "source": [
    "# run the polarity score on the entire dataset\n",
    "partial_dataframe = df[:500]\n",
    "res = {}\n",
    "for i, row in tqdm(partial_dataframe.iterrows(), total=len(partial_dataframe)):\n",
    "    try:\n",
    "        text = row['Review']\n",
    "        myid = row['Id']\n",
    "        vader_result = sia.polarity_scores(text)\n",
    "        vader_result_rename = {}\n",
    "        for key, value in vader_result.items():\n",
    "            vader_result_rename[f\"vader_{key}\"] = value\n",
    "        roberta_result = polarity_scores_roberta(text)\n",
    "        both = {**vader_result, **roberta_result}\n",
    "        res[myid] = both\n",
    "    except RuntimeError:\n",
    "        print(f\"Broke for id {myid}\")\n",
    "        "
   ],
   "metadata": {
    "collapsed": false,
    "ExecuteTime": {
     "end_time": "2023-12-26T22:12:10.195589Z",
     "start_time": "2023-12-26T22:11:36.629645Z"
    }
   },
   "id": "8889b30d185faab3"
  },
  {
   "cell_type": "code",
   "execution_count": null,
   "outputs": [],
   "source": [],
   "metadata": {
    "collapsed": false
   },
   "id": "28cf9915b872edda"
  }
 ],
 "metadata": {
  "kernelspec": {
   "display_name": "Python 3",
   "language": "python",
   "name": "python3"
  },
  "language_info": {
   "codemirror_mode": {
    "name": "ipython",
    "version": 2
   },
   "file_extension": ".py",
   "mimetype": "text/x-python",
   "name": "python",
   "nbconvert_exporter": "python",
   "pygments_lexer": "ipython2",
   "version": "2.7.6"
  }
 },
 "nbformat": 4,
 "nbformat_minor": 5
}
