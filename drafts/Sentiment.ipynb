{
 "cells": [
  {
   "cell_type": "code",
   "execution_count": null,
   "id": "initial_id",
   "metadata": {
    "collapsed": true
   },
   "outputs": [],
   "source": [
    "import pandas as pd\n",
    "train = pd.read_csv('...', header=0, delimiter='\\t', quoting=3)"
   ]
  },
  {
   "cell_type": "code",
   "outputs": [],
   "source": [
    "train.shape\n",
    "train.cloumns.values\n",
    "train.iloc[0]\n",
    "print(train['review'][0])"
   ],
   "metadata": {
    "collapsed": false
   },
   "id": "52b4f3b7b82f192"
  },
  {
   "cell_type": "code",
   "outputs": [],
   "source": [
    "from bs4 import BeautifulSoup\n",
    "example1 = BeautifulSoup(train['review'][0])\n",
    "print(example1.get_text())"
   ],
   "metadata": {
    "collapsed": false
   },
   "id": "29a5cf935f7beb26"
  },
  {
   "cell_type": "code",
   "outputs": [
    {
     "ename": "NameError",
     "evalue": "name 'example1' is not defined",
     "output_type": "error",
     "traceback": [
      "\u001B[0;31m---------------------------------------------------------------------------\u001B[0m",
      "\u001B[0;31mNameError\u001B[0m                                 Traceback (most recent call last)",
      "Cell \u001B[0;32mIn[1], line 2\u001B[0m\n\u001B[1;32m      1\u001B[0m \u001B[38;5;28;01mimport\u001B[39;00m \u001B[38;5;21;01mre\u001B[39;00m \n\u001B[0;32m----> 2\u001B[0m letters_only \u001B[38;5;241m=\u001B[39m re\u001B[38;5;241m.\u001B[39msub(\u001B[38;5;124m'\u001B[39m\u001B[38;5;124m[^a-zA-Z]\u001B[39m\u001B[38;5;124m'\u001B[39m, \u001B[38;5;124m'\u001B[39m\u001B[38;5;124m \u001B[39m\u001B[38;5;124m'\u001B[39m, example1\u001B[38;5;241m.\u001B[39mget_text())\n\u001B[1;32m      3\u001B[0m \u001B[38;5;28mprint\u001B[39m(letters_only)\n",
      "\u001B[0;31mNameError\u001B[0m: name 'example1' is not defined"
     ]
    }
   ],
   "source": [
    "import re \n",
    "letters_only = re.sub('[^a-zA-Z]', ' ', example1.get_text())\n",
    "print(letters_only)"
   ],
   "metadata": {
    "collapsed": false,
    "ExecuteTime": {
     "end_time": "2024-01-06T17:24:51.306475Z",
     "start_time": "2024-01-06T17:24:50.904082Z"
    }
   },
   "id": "1b447dccc6a3b54a",
   "execution_count": 1
  },
  {
   "cell_type": "code",
   "outputs": [
    {
     "ename": "NameError",
     "evalue": "name 'letters_only' is not defined",
     "output_type": "error",
     "traceback": [
      "\u001B[0;31m---------------------------------------------------------------------------\u001B[0m",
      "\u001B[0;31mNameError\u001B[0m                                 Traceback (most recent call last)",
      "Cell \u001B[0;32mIn[2], line 1\u001B[0m\n\u001B[0;32m----> 1\u001B[0m lower_case \u001B[38;5;241m=\u001B[39m letters_only\u001B[38;5;241m.\u001B[39mlower()\n\u001B[1;32m      2\u001B[0m words \u001B[38;5;241m=\u001B[39m lower_case\u001B[38;5;241m.\u001B[39msplit()\n",
      "\u001B[0;31mNameError\u001B[0m: name 'letters_only' is not defined"
     ]
    }
   ],
   "source": [
    "lower_case = letters_only.lower()\n",
    "words = lower_case.split()\n"
   ],
   "metadata": {
    "collapsed": false,
    "ExecuteTime": {
     "end_time": "2024-01-06T17:25:30.665521Z",
     "start_time": "2024-01-06T17:25:30.628880Z"
    }
   },
   "id": "ba26d1fdf04dd874",
   "execution_count": 2
  },
  {
   "cell_type": "code",
   "outputs": [
    {
     "ename": "NameError",
     "evalue": "name 'words' is not defined",
     "output_type": "error",
     "traceback": [
      "\u001B[0;31m---------------------------------------------------------------------------\u001B[0m",
      "\u001B[0;31mNameError\u001B[0m                                 Traceback (most recent call last)",
      "Cell \u001B[0;32mIn[3], line 2\u001B[0m\n\u001B[1;32m      1\u001B[0m \u001B[38;5;28;01mimport\u001B[39;00m \u001B[38;5;21;01mnltk\u001B[39;00m\n\u001B[0;32m----> 2\u001B[0m words \u001B[38;5;241m=\u001B[39m [w \u001B[38;5;28;01mfor\u001B[39;00m w \u001B[38;5;129;01min\u001B[39;00m words \u001B[38;5;28;01mif\u001B[39;00m \u001B[38;5;129;01mnot\u001B[39;00m w \u001B[38;5;129;01min\u001B[39;00m stopwords\u001B[38;5;241m.\u001B[39mwords(\u001B[38;5;124m'\u001B[39m\u001B[38;5;124menglish\u001B[39m\u001B[38;5;124m'\u001B[39m)]\n\u001B[1;32m      3\u001B[0m \u001B[38;5;28mprint\u001B[39m(words)\n",
      "\u001B[0;31mNameError\u001B[0m: name 'words' is not defined"
     ]
    }
   ],
   "source": [
    "import nltk\n",
    "words = [w for w in words if not w in stopwords.words('english')]\n",
    "print(words)"
   ],
   "metadata": {
    "collapsed": false,
    "ExecuteTime": {
     "end_time": "2024-01-06T17:26:42.644343Z",
     "start_time": "2024-01-06T17:26:41.702977Z"
    }
   },
   "id": "23b137f58dc030da",
   "execution_count": 3
  },
  {
   "cell_type": "code",
   "outputs": [],
   "source": [
    "def review_to_words(raw_review):\n",
    "    review_text = BeautifulSoup(raw_review).get_text()\n",
    "    letters_only = re.sub('[^a-zA-Z]', ' ', example1.get_text())\n",
    "    words = lower_case.lower().split()\n",
    "    stops = set(nltk.corpus.stopwords.words(''))\n",
    "    meaningful_words = [w for w in words if not w in stops]\n",
    "    return ''.join(meaningful_words)"
   ],
   "metadata": {
    "collapsed": false,
    "ExecuteTime": {
     "end_time": "2024-01-06T17:30:29.706972Z",
     "start_time": "2024-01-06T17:30:29.699226Z"
    }
   },
   "id": "61a8c5dd0425a81f",
   "execution_count": 4
  },
  {
   "cell_type": "code",
   "outputs": [
    {
     "ename": "NameError",
     "evalue": "name 'train' is not defined",
     "output_type": "error",
     "traceback": [
      "\u001B[0;31m---------------------------------------------------------------------------\u001B[0m",
      "\u001B[0;31mNameError\u001B[0m                                 Traceback (most recent call last)",
      "Cell \u001B[0;32mIn[5], line 1\u001B[0m\n\u001B[0;32m----> 1\u001B[0m clear_review \u001B[38;5;241m=\u001B[39m review_to_words(train[\u001B[38;5;124m'\u001B[39m\u001B[38;5;124mreview\u001B[39m\u001B[38;5;124m'\u001B[39m][\u001B[38;5;241m0\u001B[39m])\n\u001B[1;32m      2\u001B[0m num_reviews \u001B[38;5;241m=\u001B[39m \u001B[38;5;28mlen\u001B[39m(clear_review)\n\u001B[1;32m      3\u001B[0m clean_train_reviews \u001B[38;5;241m=\u001B[39m []\n",
      "\u001B[0;31mNameError\u001B[0m: name 'train' is not defined"
     ]
    }
   ],
   "source": [
    "clear_review = review_to_words(train['review'][0])\n",
    "num_reviews = len(clear_review)\n",
    "clean_train_reviews = []\n",
    "for i in range(0, num_reviews):\n",
    "    clean_train_reviews.append(review_to_words(train['review'][i]))"
   ],
   "metadata": {
    "collapsed": false,
    "ExecuteTime": {
     "end_time": "2024-01-06T17:32:59.543310Z",
     "start_time": "2024-01-06T17:32:59.458716Z"
    }
   },
   "id": "1920d55941f9f831",
   "execution_count": 5
  },
  {
   "cell_type": "code",
   "outputs": [
    {
     "ename": "NameError",
     "evalue": "name 'clean_train_reviews' is not defined",
     "output_type": "error",
     "traceback": [
      "\u001B[0;31m---------------------------------------------------------------------------\u001B[0m",
      "\u001B[0;31mNameError\u001B[0m                                 Traceback (most recent call last)",
      "Cell \u001B[0;32mIn[6], line 8\u001B[0m\n\u001B[1;32m      1\u001B[0m \u001B[38;5;28;01mfrom\u001B[39;00m \u001B[38;5;21;01msklearn\u001B[39;00m\u001B[38;5;21;01m.\u001B[39;00m\u001B[38;5;21;01mfeature_extraction\u001B[39;00m\u001B[38;5;21;01m.\u001B[39;00m\u001B[38;5;21;01mtext\u001B[39;00m \u001B[38;5;28;01mimport\u001B[39;00m CountVectorizer\n\u001B[1;32m      2\u001B[0m vectorizer \u001B[38;5;241m=\u001B[39m CountVectorizer(analyzer\u001B[38;5;241m=\u001B[39m\u001B[38;5;124m'\u001B[39m\u001B[38;5;124mword\u001B[39m\u001B[38;5;124m'\u001B[39m,\n\u001B[1;32m      3\u001B[0m                              tokenizer\u001B[38;5;241m=\u001B[39m\u001B[38;5;28;01mNone\u001B[39;00m,\n\u001B[1;32m      4\u001B[0m                              preprocessor\u001B[38;5;241m=\u001B[39m\u001B[38;5;28;01mNone\u001B[39;00m,\n\u001B[1;32m      5\u001B[0m                              stop_words\u001B[38;5;241m=\u001B[39m\u001B[38;5;28;01mNone\u001B[39;00m,\n\u001B[1;32m      6\u001B[0m                              max_features\u001B[38;5;241m=\u001B[39m\u001B[38;5;241m5000\u001B[39m)\n\u001B[0;32m----> 8\u001B[0m train_data_features \u001B[38;5;241m=\u001B[39m vectorizer\u001B[38;5;241m.\u001B[39mfit_transform(clean_train_reviews)\n\u001B[1;32m      9\u001B[0m train_data_features \u001B[38;5;241m=\u001B[39m train_data_features\u001B[38;5;241m.\u001B[39mtoarray()\n\u001B[1;32m     10\u001B[0m \u001B[38;5;28mprint\u001B[39m(train_data_features\u001B[38;5;241m.\u001B[39mshape)\n",
      "\u001B[0;31mNameError\u001B[0m: name 'clean_train_reviews' is not defined"
     ]
    }
   ],
   "source": [
    "from sklearn.feature_extraction.text import CountVectorizer\n",
    "vectorizer = CountVectorizer(analyzer='word',\n",
    "                             tokenizer=None,\n",
    "                             preprocessor=None,\n",
    "                             stop_words=None,\n",
    "                             max_features=5000)\n",
    "\n",
    "train_data_features = vectorizer.fit_transform(clean_train_reviews)\n",
    "train_data_features = train_data_features.toarray()\n",
    "print(train_data_features.shape)\n",
    "vocab = vectorizer.get_feature_names()\n",
    "print('vocab', vocab)"
   ],
   "metadata": {
    "collapsed": false,
    "ExecuteTime": {
     "end_time": "2024-01-06T17:36:19.055685Z",
     "start_time": "2024-01-06T17:36:19.003336Z"
    }
   },
   "id": "e000db837c2f2eaa",
   "execution_count": 6
  },
  {
   "cell_type": "code",
   "outputs": [
    {
     "ename": "NameError",
     "evalue": "name 'train_data_features' is not defined",
     "output_type": "error",
     "traceback": [
      "\u001B[0;31m---------------------------------------------------------------------------\u001B[0m",
      "\u001B[0;31mNameError\u001B[0m                                 Traceback (most recent call last)",
      "Cell \u001B[0;32mIn[7], line 2\u001B[0m\n\u001B[1;32m      1\u001B[0m \u001B[38;5;28;01mimport\u001B[39;00m \u001B[38;5;21;01mnumpy\u001B[39;00m \u001B[38;5;28;01mas\u001B[39;00m \u001B[38;5;21;01mnp\u001B[39;00m\n\u001B[0;32m----> 2\u001B[0m dist \u001B[38;5;241m=\u001B[39m np\u001B[38;5;241m.\u001B[39msum(train_data_features, axis\u001B[38;5;241m=\u001B[39m\u001B[38;5;241m0\u001B[39m)\n\u001B[1;32m      3\u001B[0m \u001B[38;5;28;01mfor\u001B[39;00m tag, count \u001B[38;5;129;01min\u001B[39;00m \u001B[38;5;28mzip\u001B[39m(vocab, dist):\n\u001B[1;32m      4\u001B[0m     \u001B[38;5;28mprint\u001B[39m(count, tag)\n",
      "\u001B[0;31mNameError\u001B[0m: name 'train_data_features' is not defined"
     ]
    }
   ],
   "source": [
    "import numpy as np\n",
    "dist = np.sum(train_data_features, axis=0)\n",
    "for tag, count in zip(vocab, dist):\n",
    "    print(count, tag)"
   ],
   "metadata": {
    "collapsed": false,
    "ExecuteTime": {
     "end_time": "2024-01-06T17:37:48.226776Z",
     "start_time": "2024-01-06T17:37:48.182336Z"
    }
   },
   "id": "fe8a8f37431f6eba",
   "execution_count": 7
  },
  {
   "cell_type": "code",
   "outputs": [],
   "source": [
    "# apply ml algorithm"
   ],
   "metadata": {
    "collapsed": false,
    "ExecuteTime": {
     "end_time": "2024-01-06T17:38:06.151970Z",
     "start_time": "2024-01-06T17:38:06.149434Z"
    }
   },
   "id": "471bb16f2d5d1bca",
   "execution_count": 8
  },
  {
   "cell_type": "code",
   "outputs": [],
   "source": [
    "from sklearn.ensemble import RandomForestClassifier\n",
    "forest = RandomForestClassifier(n_estimators=100)\n",
    "forest = forest.fit(train_data_features, train['sentiment'])"
   ],
   "metadata": {
    "collapsed": false
   },
   "id": "5291511910bff061"
  }
 ],
 "metadata": {
  "kernelspec": {
   "display_name": "Python 3",
   "language": "python",
   "name": "python3"
  },
  "language_info": {
   "codemirror_mode": {
    "name": "ipython",
    "version": 2
   },
   "file_extension": ".py",
   "mimetype": "text/x-python",
   "name": "python",
   "nbconvert_exporter": "python",
   "pygments_lexer": "ipython2",
   "version": "2.7.6"
  }
 },
 "nbformat": 4,
 "nbformat_minor": 5
}
