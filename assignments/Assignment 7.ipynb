{
 "cells": [
  {
   "cell_type": "code",
   "execution_count": 1,
   "id": "d3302b1c",
   "metadata": {
    "ExecuteTime": {
     "end_time": "2023-12-14T21:47:53.900317Z",
     "start_time": "2023-12-14T21:47:49.783697Z"
    }
   },
   "outputs": [],
   "source": [
    "import nltk\n",
    "from nltk.corpus import brown\n",
    "from nltk.tag import UnigramTagger, BigramTagger, TrigramTagger, RegexpTagger"
   ]
  },
  {
   "cell_type": "code",
   "execution_count": 2,
   "id": "c7bb31bf",
   "metadata": {
    "ExecuteTime": {
     "end_time": "2023-12-14T21:47:54.195739Z",
     "start_time": "2023-12-14T21:47:53.901620Z"
    }
   },
   "outputs": [
    {
     "name": "stderr",
     "output_type": "stream",
     "text": [
      "[nltk_data] Downloading package brown to /Users/andrey/nltk_data...\n",
      "[nltk_data]   Package brown is already up-to-date!\n",
      "[nltk_data] Downloading package punkt to /Users/andrey/nltk_data...\n",
      "[nltk_data]   Package punkt is already up-to-date!\n",
      "[nltk_data] Downloading package averaged_perceptron_tagger to\n",
      "[nltk_data]     /Users/andrey/nltk_data...\n",
      "[nltk_data]   Package averaged_perceptron_tagger is already up-to-\n",
      "[nltk_data]       date!\n"
     ]
    }
   ],
   "source": [
    "nltk.download('brown')\n",
    "nltk.download('punkt')\n",
    "nltk.download('averaged_perceptron_tagger')\n",
    "\n",
    "brown_tagged_sents = brown.tagged_sents(categories='news')"
   ]
  },
  {
   "cell_type": "code",
   "execution_count": 3,
   "id": "8a7eb495",
   "metadata": {
    "ExecuteTime": {
     "end_time": "2023-12-14T21:47:54.311102Z",
     "start_time": "2023-12-14T21:47:54.197122Z"
    }
   },
   "outputs": [],
   "source": [
    "size = int(len(brown_tagged_sents) * 0.9)\n",
    "train_sents = brown_tagged_sents[:size] # first 90% train\n",
    "test_sents = brown_tagged_sents[size:] # secod 10% test"
   ]
  },
  {
   "cell_type": "code",
   "execution_count": 4,
   "id": "4f8d378f",
   "metadata": {
    "ExecuteTime": {
     "end_time": "2023-12-14T21:47:54.318662Z",
     "start_time": "2023-12-14T21:47:54.313572Z"
    }
   },
   "outputs": [],
   "source": [
    "patterns = [\n",
    "    (r'.*ing$', 'VBG'),               # gerunds\n",
    "    (r'.*ed$', 'VBD'),                # simple past\n",
    "    (r'.*es$', 'VBZ'),                # 3rd singular present\n",
    "    (r'.*ould$', 'MD'),               # modals\n",
    "    (r'.*\\'s$', 'NN$'),               # possessive nouns\n",
    "    (r'.*s$', 'NNS'),                 # plural nouns\n",
    "    (r'^-?[0-9]+(.[0-9]+)?$', 'CD'),  # cardinal numbers\n",
    "    (r'.*', 'NN')                     # nouns (default)\n",
    "]\n",
    "\n",
    "regexp_tagger = RegexpTagger(patterns)"
   ]
  },
  {
   "cell_type": "code",
   "execution_count": 5,
   "id": "83526963",
   "metadata": {
    "ExecuteTime": {
     "end_time": "2023-12-14T21:47:56.168775Z",
     "start_time": "2023-12-14T21:47:54.318657Z"
    }
   },
   "outputs": [
    {
     "name": "stdout",
     "output_type": "stream",
     "text": [
      "Accuracy of the unigram tagger: 0.8572\n",
      "Accuracy of the bigram tagger: 0.8665\n",
      "Accuracy of the trigram tagger: 0.8639\n"
     ]
    }
   ],
   "source": [
    "unigram_tagger = UnigramTagger(train_sents, backoff=regexp_tagger)\n",
    "accuracy_unigram_tagger = unigram_tagger.accuracy(test_sents)\n",
    "print(f\"Accuracy of the unigram tagger: {accuracy_unigram_tagger:.4f}\")\n",
    "\n",
    "bigram_tagger = BigramTagger(train_sents, backoff=unigram_tagger)\n",
    "accuracy_bigram_tagger = bigram_tagger.accuracy(test_sents)\n",
    "print(f\"Accuracy of the bigram tagger: {accuracy_bigram_tagger:.4f}\")\n",
    "\n",
    "trigram_tagger = TrigramTagger(train_sents, backoff=bigram_tagger)\n",
    "accuracy_trigram_tagger = trigram_tagger.accuracy(test_sents)\n",
    "print(f\"Accuracy of the trigram tagger: {accuracy_trigram_tagger:.4f}\")"
   ]
  },
  {
   "cell_type": "code",
   "execution_count": null,
   "id": "80416502",
   "metadata": {},
   "outputs": [],
   "source": []
  }
 ],
 "metadata": {
  "kernelspec": {
   "display_name": "Python 3 (ipykernel)",
   "language": "python",
   "name": "python3"
  },
  "language_info": {
   "codemirror_mode": {
    "name": "ipython",
    "version": 3
   },
   "file_extension": ".py",
   "mimetype": "text/x-python",
   "name": "python",
   "nbconvert_exporter": "python",
   "pygments_lexer": "ipython3",
   "version": "3.11.5"
  }
 },
 "nbformat": 4,
 "nbformat_minor": 5
}
