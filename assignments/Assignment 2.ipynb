{
 "cells": [
  {
   "cell_type": "code",
   "execution_count": 1,
   "id": "88f30cb3",
   "metadata": {},
   "outputs": [
    {
     "name": "stderr",
     "output_type": "stream",
     "text": [
      "[nltk_data] Downloading package brown to /Users/andrey/nltk_data...\n",
      "[nltk_data]   Package brown is already up-to-date!\n"
     ]
    },
    {
     "data": {
      "text/plain": [
       "True"
      ]
     },
     "execution_count": 1,
     "metadata": {},
     "output_type": "execute_result"
    }
   ],
   "source": [
    "import nltk\n",
    "nltk.download('brown')"
   ]
  },
  {
   "cell_type": "code",
   "execution_count": 2,
   "id": "b97d4aba",
   "metadata": {},
   "outputs": [
    {
     "name": "stdout",
     "output_type": "stream",
     "text": [
      "There are 15 categories.\n"
     ]
    }
   ],
   "source": [
    "from nltk.corpus import brown\n",
    "\n",
    "# How many categories are there?\n",
    "categories = brown.categories()\n",
    "num_categories = len(categories)\n",
    "print(f\"There are {num_categories} categories.\")\n"
   ]
  },
  {
   "cell_type": "code",
   "execution_count": 3,
   "id": "1b1a89b6",
   "metadata": {},
   "outputs": [
    {
     "name": "stdout",
     "output_type": "stream",
     "text": [
      "The category 'adventure' has 29 files.\n",
      "The category 'belles_lettres' has 75 files.\n",
      "The category 'editorial' has 27 files.\n",
      "The category 'fiction' has 29 files.\n",
      "The category 'government' has 30 files.\n",
      "The category 'hobbies' has 36 files.\n",
      "The category 'humor' has 9 files.\n",
      "The category 'learned' has 80 files.\n",
      "The category 'lore' has 48 files.\n",
      "The category 'mystery' has 24 files.\n",
      "The category 'news' has 44 files.\n",
      "The category 'religion' has 17 files.\n",
      "The category 'reviews' has 17 files.\n",
      "The category 'romance' has 29 files.\n",
      "The category 'science_fiction' has 6 files.\n"
     ]
    }
   ],
   "source": [
    "# How many files are in each category?\n",
    "for category in categories:\n",
    "    num_files = len(brown.fileids(categories=category))\n",
    "    print(f\"The category '{category}' has {num_files} files.\")\n"
   ]
  },
  {
   "cell_type": "code",
   "execution_count": 4,
   "id": "2ab6c372",
   "metadata": {},
   "outputs": [
    {
     "name": "stdout",
     "output_type": "stream",
     "text": [
      "The category 'adventure' has 69342 words.\n",
      "The category 'belles_lettres' has 173096 words.\n",
      "The category 'editorial' has 61604 words.\n",
      "The category 'fiction' has 68488 words.\n",
      "The category 'government' has 70117 words.\n",
      "The category 'hobbies' has 82345 words.\n",
      "The category 'humor' has 21695 words.\n",
      "The category 'learned' has 181888 words.\n",
      "The category 'lore' has 110299 words.\n",
      "The category 'mystery' has 57169 words.\n",
      "The category 'news' has 100554 words.\n",
      "The category 'religion' has 39399 words.\n",
      "The category 'reviews' has 40704 words.\n",
      "The category 'romance' has 70022 words.\n",
      "The category 'science_fiction' has 14470 words.\n"
     ]
    }
   ],
   "source": [
    "# How many words are in each category?\n",
    "for category in categories:\n",
    "    num_words = len(brown.words(categories=category))\n",
    "    print(f\"The category '{category}' has {num_words} words.\")\n"
   ]
  },
  {
   "cell_type": "code",
   "execution_count": null,
   "id": "f48c2e88",
   "metadata": {},
   "outputs": [],
   "source": []
  }
 ],
 "metadata": {
  "kernelspec": {
   "display_name": "Python 3 (ipykernel)",
   "language": "python",
   "name": "python3"
  },
  "language_info": {
   "codemirror_mode": {
    "name": "ipython",
    "version": 3
   },
   "file_extension": ".py",
   "mimetype": "text/x-python",
   "name": "python",
   "nbconvert_exporter": "python",
   "pygments_lexer": "ipython3",
   "version": "3.11.5"
  }
 },
 "nbformat": 4,
 "nbformat_minor": 5
}
