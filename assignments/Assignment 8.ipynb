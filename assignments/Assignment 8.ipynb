{
 "cells": [
  {
   "cell_type": "code",
   "execution_count": 11,
   "id": "initial_id",
   "metadata": {
    "collapsed": true,
    "ExecuteTime": {
     "end_time": "2023-12-17T16:21:46.331205Z",
     "start_time": "2023-12-17T16:21:46.328753Z"
    }
   },
   "outputs": [],
   "source": [
    "import nltk"
   ]
  },
  {
   "cell_type": "code",
   "execution_count": 12,
   "outputs": [],
   "source": [
    "tagged_sentence = [\n",
    "    [(\"The\", \"DT\"), (\"receiving\", \"VBG\"), (\"end\", \"NN\"), (\"assistant\", \"NN\"), (\"managing\", \"VBG\"), (\"editor\", \"NN\")]\n",
    "]\n",
    "\n",
    "grammar = r\"\"\"\n",
    "    NP: {<DT>?<VBG><NN>}\n",
    "    NP: {<DT>?<VBG><JJ>*<NN>}\n",
    "\"\"\"\n",
    "chunk_parser = nltk.RegexpParser(grammar)"
   ],
   "metadata": {
    "collapsed": false,
    "ExecuteTime": {
     "end_time": "2023-12-17T16:21:46.904269Z",
     "start_time": "2023-12-17T16:21:46.899454Z"
    }
   },
   "id": "8a85865a2511843e"
  },
  {
   "cell_type": "code",
   "execution_count": 13,
   "outputs": [
    {
     "name": "stdout",
     "output_type": "stream",
     "text": [
      "(S\n",
      "  (NP The/DT receiving/VBG end/NN)\n",
      "  assistant/NN\n",
      "  (NP managing/VBG editor/NN))\n",
      "(S\n",
      "  (NP A/DT programming/VBG language/NN)\n",
      "  developed/VBN\n",
      "  by/IN\n",
      "  Python/NNP)\n"
     ]
    }
   ],
   "source": [
    "def parse_tagged_sentences(tagged_sentences):\n",
    "    for sentence in tagged_sentences:\n",
    "        parsed_sentence = chunk_parser.parse(sentence)\n",
    "        print(parsed_sentence)\n",
    "\n",
    "parse_tagged_sentences(tagged_sentence)\n",
    "\n",
    "new_sentence = [(\"A\", \"DT\"), (\"programming\", \"VBG\"), (\"language\", \"NN\"), (\"developed\", \"VBN\"), (\"by\", \"IN\"), (\"Python\", \"NNP\")]\n",
    "\n",
    "parse_tagged_sentences([new_sentence])"
   ],
   "metadata": {
    "collapsed": false,
    "ExecuteTime": {
     "end_time": "2023-12-17T16:21:47.452289Z",
     "start_time": "2023-12-17T16:21:47.448527Z"
    }
   },
   "id": "d5ea4570063c5794"
  },
  {
   "cell_type": "code",
   "execution_count": null,
   "outputs": [],
   "source": [],
   "metadata": {
    "collapsed": false
   },
   "id": "b59ad56f1f0026de"
  }
 ],
 "metadata": {
  "kernelspec": {
   "display_name": "Python 3",
   "language": "python",
   "name": "python3"
  },
  "language_info": {
   "codemirror_mode": {
    "name": "ipython",
    "version": 2
   },
   "file_extension": ".py",
   "mimetype": "text/x-python",
   "name": "python",
   "nbconvert_exporter": "python",
   "pygments_lexer": "ipython2",
   "version": "2.7.6"
  }
 },
 "nbformat": 4,
 "nbformat_minor": 5
}
