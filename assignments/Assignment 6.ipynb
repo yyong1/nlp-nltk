{
 "cells": [
  {
   "cell_type": "code",
   "execution_count": 25,
   "id": "2869f855",
   "metadata": {},
   "outputs": [
    {
     "name": "stdout",
     "output_type": "stream",
     "text": [
      "All tags: [('They', 'PRP'), ('wind', 'VBP'), ('back', 'RB'), ('the', 'DT'), ('clock', 'NN'), (',', ','), ('while', 'IN'), ('we', 'PRP'), ('chase', 'VBP'), ('after', 'IN'), ('the', 'DT'), ('wind', 'NN'), ('.', '.')]\n",
      "Question 1:\n",
      "This illustrates how homographs can have multiple parts of speech, depending on its context \n",
      " ('wind', 'VBP') ('wind', 'NN')\n"
     ]
    }
   ],
   "source": [
    "import nltk\n",
    "from nltk import word_tokenize, pos_tag\n",
    "\n",
    "sentence = \"They wind back the clock, while we chase after the wind.\"\n",
    "tokens = word_tokenize(sentence)\n",
    "tags = pos_tag(tokens)\n",
    "\n",
    "print('All tags:',tags)\n",
    "print('Question 1:')\n",
    "print('This illustrates how homographs can have multiple parts of speech, depending on its context \\n', \n",
    "      tags[1], tags[-2])"
   ]
  },
  {
   "cell_type": "code",
   "execution_count": 26,
   "id": "0e2e767d",
   "metadata": {},
   "outputs": [
    {
     "name": "stdout",
     "output_type": "stream",
     "text": [
      "[[('The', 'AT'), ('Fulton', 'NP-TL'), ('County', 'NN-TL'), ('Grand', 'JJ-TL'), ('Jury', 'NN-TL'), ('said', 'VBD'), ('Friday', 'NR'), ('an', 'AT'), ('investigation', 'NN'), ('of', 'IN'), (\"Atlanta's\", 'NP$'), ('recent', 'JJ'), ('primary', 'NN'), ('election', 'NN'), ('produced', 'VBD'), ('``', '``'), ('no', 'AT'), ('evidence', 'NN'), (\"''\", \"''\"), ('that', 'CS'), ('any', 'DTI'), ('irregularities', 'NNS'), ('took', 'VBD'), ('place', 'NN'), ('.', '.')], [('The', 'AT'), ('jury', 'NN'), ('further', 'RBR'), ('said', 'VBD'), ('in', 'IN'), ('term-end', 'NN'), ('presentments', 'NNS'), ('that', 'CS'), ('the', 'AT'), ('City', 'NN-TL'), ('Executive', 'JJ-TL'), ('Committee', 'NN-TL'), (',', ','), ('which', 'WDT'), ('had', 'HVD'), ('over-all', 'JJ'), ('charge', 'NN'), ('of', 'IN'), ('the', 'AT'), ('election', 'NN'), (',', ','), ('``', '``'), ('deserves', 'VBZ'), ('the', 'AT'), ('praise', 'NN'), ('and', 'CC'), ('thanks', 'NNS'), ('of', 'IN'), ('the', 'AT'), ('City', 'NN-TL'), ('of', 'IN-TL'), ('Atlanta', 'NP-TL'), (\"''\", \"''\"), ('for', 'IN'), ('the', 'AT'), ('manner', 'NN'), ('in', 'IN'), ('which', 'WDT'), ('the', 'AT'), ('election', 'NN'), ('was', 'BEDZ'), ('conducted', 'VBN'), ('.', '.')], ...]\n",
      "Question 2:\n",
      "[('The', 'AT'), ('quick', 'JJ'), ('brown', 'JJ'), ('fox', 'NN'), ('jumps', 'NNS'), ('over', 'IN'), ('the', 'AT'), ('lazy', 'JJ'), ('dog', 'NN'), ('.', '.')]\n"
     ]
    }
   ],
   "source": [
    "# Train a unigram tagger and run it on some new text. Observe that some words are not assigned a tag. Why not?\n",
    "from nltk.corpus import brown\n",
    "from nltk.tag import UnigramTagger\n",
    "\n",
    "# Train a tagger\n",
    "brown_tagged_sents = brown.tagged_sents()\n",
    "print(brown_tagged_sents)\n",
    "unigram_tagger = UnigramTagger(brown_tagged_sents)\n",
    "\n",
    "# Test the tagger on new text\n",
    "new_text = \"The quick brown fox jumps over the lazy dog.\"\n",
    "new_tokens = word_tokenize(new_text)\n",
    "new_tags = unigram_tagger.tag(new_tokens)\n",
    "# Because it could be out-of-vocabulary Words | ambiguity (context) | low-frequency words\n",
    "print('Question 2:')\n",
    "print(new_tags)"
   ]
  },
  {
   "cell_type": "code",
   "execution_count": 27,
   "id": "ddf25d6c",
   "metadata": {},
   "outputs": [
    {
     "name": "stdout",
     "output_type": "stream",
     "text": [
      "Question 3:\n",
      "['.', 'ADJ', 'ADP', 'ADV', 'CONJ', 'DET', 'NOUN', 'NUM', 'PRON', 'PRT', 'VERB', 'X']\n"
     ]
    }
   ],
   "source": [
    "tags = brown.tagged_words(tagset='universal')\n",
    "unique_tags = sorted(set(tag for word, tag in tags))\n",
    "print('Question 3:')\n",
    "print(unique_tags)"
   ]
  },
  {
   "cell_type": "code",
   "execution_count": 28,
   "id": "15789e3c",
   "metadata": {},
   "outputs": [
    {
     "name": "stdout",
     "output_type": "stream",
     "text": [
      "Proportion of word types with a single tag: 93.16%\n"
     ]
    }
   ],
   "source": [
    "# Question 4:\n",
    "\n",
    "#  a. What proportion of word types are always assigned the same part-of-speech tag? \n",
    "word_type_tags = {}\n",
    "for word, tag in tags:\n",
    "    word_type_tags.setdefault(word.lower(), set()).add(tag)\n",
    "single_tag_word_types = sum(1 for tags in word_type_tags.values() if len(tags) == 1)\n",
    "total_word_types = len(word_type_tags)\n",
    "proportion_single_tag_word_types = single_tag_word_types / total_word_types\n",
    "\n",
    "print(f\"Proportion of word types with a single tag: {proportion_single_tag_word_types:.2%}\")"
   ]
  },
  {
   "cell_type": "code",
   "execution_count": 29,
   "id": "26172939",
   "metadata": {},
   "outputs": [
    {
     "name": "stdout",
     "output_type": "stream",
     "text": [
      "Number of ambiguous words: 3408\n"
     ]
    }
   ],
   "source": [
    "# b. How many words are ambiguous, in the sense that they appear with at least two tags? \n",
    "ambiguous_words = sum(1 for tags in word_type_tags.values() if len(tags) > 1)\n",
    "\n",
    "print(f\"Number of ambiguous words: {ambiguous_words}\")"
   ]
  },
  {
   "cell_type": "code",
   "execution_count": 30,
   "id": "d3fadd45",
   "metadata": {},
   "outputs": [
    {
     "name": "stdout",
     "output_type": "stream",
     "text": [
      "Percentage of word tokens involving ambiguous words: 55.68%\n"
     ]
    }
   ],
   "source": [
    "# c. What percentage of word tokens in the Brown Corpus involve these ambiguous words? \n",
    "ambiguous_word_tokens = sum(1 for word, tag in tags if len(word_type_tags[word.lower()]) > 1)\n",
    "total_word_tokens = len(tags)\n",
    "percentage_ambiguous_word_tokens = (ambiguous_word_tokens / total_word_tokens) * 100\n",
    "\n",
    "print(f\"Percentage of word tokens involving ambiguous words: {percentage_ambiguous_word_tokens:.2f}%\")"
   ]
  },
  {
   "cell_type": "code",
   "execution_count": null,
   "id": "28d7e452",
   "metadata": {},
   "outputs": [],
   "source": []
  }
 ],
 "metadata": {
  "kernelspec": {
   "display_name": "Python 3 (ipykernel)",
   "language": "python",
   "name": "python3"
  },
  "language_info": {
   "codemirror_mode": {
    "name": "ipython",
    "version": 3
   },
   "file_extension": ".py",
   "mimetype": "text/x-python",
   "name": "python",
   "nbconvert_exporter": "python",
   "pygments_lexer": "ipython3",
   "version": "3.11.5"
  }
 },
 "nbformat": 4,
 "nbformat_minor": 5
}
