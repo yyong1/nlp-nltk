{
 "cells": [
  {
   "cell_type": "code",
   "execution_count": 14,
   "id": "0c23ca26",
   "metadata": {},
   "outputs": [
    {
     "name": "stderr",
     "output_type": "stream",
     "text": [
      "[nltk_data] Downloading package wordnet to /Users/andrey/nltk_data...\n",
      "[nltk_data]   Package wordnet is already up-to-date!\n"
     ]
    },
    {
     "data": {
      "text/plain": [
       "True"
      ]
     },
     "execution_count": 14,
     "metadata": {},
     "output_type": "execute_result"
    }
   ],
   "source": [
    "import nltk\n",
    "from nltk.corpus import wordnet as wn\n",
    "nltk.download('wordnet')"
   ]
  },
  {
   "cell_type": "code",
   "execution_count": 17,
   "id": "e0de685e",
   "metadata": {},
   "outputs": [
    {
     "name": "stdout",
     "output_type": "stream",
     "text": [
      "Synset: Synset('tree.n.01')\n",
      "Member Meronyms: []\n",
      "Part Meronyms: [Synset('burl.n.02'), Synset('crown.n.07'), Synset('limb.n.02'), Synset('stump.n.01'), Synset('trunk.n.01')]\n",
      "Substance Meronyms: [Synset('heartwood.n.01'), Synset('sapwood.n.01')]\n",
      "Member Holonyms: [Synset('forest.n.01')]\n",
      "Part Holonyms: []\n",
      "Substance Holonyms: []\n",
      "\n",
      "\n",
      "Synset: Synset('tree.n.02')\n",
      "Member Meronyms: []\n",
      "Part Meronyms: []\n",
      "Substance Meronyms: []\n",
      "Member Holonyms: []\n",
      "Part Holonyms: []\n",
      "Substance Holonyms: []\n",
      "\n",
      "\n",
      "Synset: Synset('tree.n.03')\n",
      "Member Meronyms: []\n",
      "Part Meronyms: []\n",
      "Substance Meronyms: []\n",
      "Member Holonyms: []\n",
      "Part Holonyms: []\n",
      "Substance Holonyms: []\n",
      "\n",
      "\n"
     ]
    }
   ],
   "source": [
    "noun = 'tree'\n",
    "synsets = wn.synsets(noun, pos=wn.NOUN)\n",
    "for synset in synsets:\n",
    "    print(f\"Synset: {synset}\")\n",
    "    print(\"Member Meronyms:\", synset.member_meronyms())\n",
    "    print(\"Part Meronyms:\", synset.part_meronyms())\n",
    "    print(\"Substance Meronyms:\", synset.substance_meronyms())\n",
    "    print(\"Member Holonyms:\", synset.member_holonyms())\n",
    "    print(\"Part Holonyms:\", synset.part_holonyms())\n",
    "    print(\"Substance Holonyms:\", synset.substance_holonyms())\n",
    "    print(\"\\n\")"
   ]
  },
  {
   "cell_type": "code",
   "execution_count": 18,
   "id": "027da5c5",
   "metadata": {},
   "outputs": [
    {
     "name": "stdout",
     "output_type": "stream",
     "text": [
      "Percentage of noun synsets with no hyponyms: 79.67%\n"
     ]
    }
   ],
   "source": [
    "# 2. What percentage of noun synsets have no hyponyms? You can get all noun synsets using wn.all_synsets('n').\n",
    "\n",
    "all_noun_synsets = list(wn.all_synsets(wn.NOUN))\n",
    "\n",
    "no_hyponyms_count = sum(1 for synset in all_noun_synsets if not synset.hyponyms())\n",
    "\n",
    "percentage_without_hyponyms = (no_hyponyms_count / len(all_noun_synsets)) * 100\n",
    "\n",
    "print(f\"Percentage of noun synsets with no hyponyms: {percentage_without_hyponyms:.2f}%\")"
   ]
  },
  {
   "cell_type": "code",
   "execution_count": null,
   "id": "da9d8008",
   "metadata": {},
   "outputs": [],
   "source": []
  }
 ],
 "metadata": {
  "kernelspec": {
   "display_name": "Python 3 (ipykernel)",
   "language": "python",
   "name": "python3"
  },
  "language_info": {
   "codemirror_mode": {
    "name": "ipython",
    "version": 3
   },
   "file_extension": ".py",
   "mimetype": "text/x-python",
   "name": "python",
   "nbconvert_exporter": "python",
   "pygments_lexer": "ipython3",
   "version": "3.11.5"
  }
 },
 "nbformat": 4,
 "nbformat_minor": 5
}
