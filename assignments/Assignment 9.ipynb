{
 "cells": [
  {
   "cell_type": "code",
   "execution_count": 1,
   "id": "7f9ed62c",
   "metadata": {},
   "outputs": [
    {
     "name": "stderr",
     "output_type": "stream",
     "text": [
      "[nltk_data] Downloading package reuters to /Users/andrey/nltk_data...\n",
      "[nltk_data]   Package reuters is already up-to-date!\n"
     ]
    }
   ],
   "source": [
    "import nltk\n",
    "from nltk.corpus import reuters\n",
    "from nltk import FreqDist\n",
    "from nltk.tokenize import word_tokenize\n",
    "from nltk.corpus import stopwords\n",
    "\n",
    "nltk.download('reuters')\n",
    "\n",
    "documents = [(list(reuters.words(fileid)), category)\n",
    "             for fileid in reuters.fileids()\n",
    "             for category in reuters.categories(fileid)]\n",
    "\n",
    "import random\n",
    "random.shuffle(documents)"
   ]
  },
  {
   "cell_type": "code",
   "execution_count": 2,
   "id": "e01cb34b",
   "metadata": {},
   "outputs": [],
   "source": [
    "def document_features(document, word_features):\n",
    "    document_words = set(document)\n",
    "    features = {}\n",
    "    for word in word_features:\n",
    "        features[f'contains({word})'] = (word in document_words)\n",
    "    return features\n",
    "\n",
    "all_words = nltk.FreqDist(w.lower() for w in reuters.words())\n",
    "\n",
    "num_features = 2000\n",
    "\n",
    "word_features = list(all_words)[:num_features]\n",
    "\n",
    "featuresets = [(document_features(doc, word_features), category) for (doc, category) in documents]"
   ]
  },
  {
   "cell_type": "code",
   "execution_count": 3,
   "id": "9e67d0b5",
   "metadata": {},
   "outputs": [],
   "source": [
    "split_ratio = int(len(featuresets) * 0.8)\n",
    "train_set, test_set = featuresets[:split_ratio], featuresets[split_ratio:]"
   ]
  },
  {
   "cell_type": "code",
   "execution_count": 4,
   "id": "255d59f0",
   "metadata": {},
   "outputs": [],
   "source": [
    "classifier = nltk.NaiveBayesClassifier.train(train_set)"
   ]
  },
  {
   "cell_type": "code",
   "execution_count": 5,
   "id": "bbac88e4",
   "metadata": {},
   "outputs": [
    {
     "name": "stdout",
     "output_type": "stream",
     "text": [
      "Classifier Accuracy: 54.84%\n"
     ]
    }
   ],
   "source": [
    "accuracy = nltk.classify.accuracy(classifier, test_set)\n",
    "print(f\"Classifier Accuracy: {accuracy:.2%}\")"
   ]
  },
  {
   "cell_type": "code",
   "execution_count": 6,
   "id": "3fbe1e37",
   "metadata": {},
   "outputs": [
    {
     "name": "stdout",
     "output_type": "stream",
     "text": [
      "Most Informative Features\n",
      "          contains(palm) = True           palm-o : earn   =   2100.0 : 1.0\n",
      "    contains(economists) = True             rand : earn   =   1866.7 : 1.0\n",
      "        contains(rubber) = True           rubber : earn   =   1832.5 : 1.0\n",
      "        contains(coffee) = True           coffee : earn   =   1790.1 : 1.0\n",
      "       contains(farmers) = True           copra- : earn   =   1777.8 : 1.0\n",
      "       contains(follows) = True           lin-oi : earn   =   1777.8 : 1.0\n",
      "         contains(ounce) = True           pallad : earn   =   1777.8 : 1.0\n",
      "   contains(commodities) = True           ground : earn   =   1600.0 : 1.0\n",
      "        contains(dealer) = True              nkr : earn   =   1600.0 : 1.0\n",
      "          contains(ease) = True              nkr : earn   =   1600.0 : 1.0\n",
      "None\n"
     ]
    }
   ],
   "source": [
    "print(classifier.show_most_informative_features(10))"
   ]
  },
  {
   "cell_type": "code",
   "execution_count": null,
   "id": "e3e6bf76",
   "metadata": {},
   "outputs": [],
   "source": []
  }
 ],
 "metadata": {
  "kernelspec": {
   "display_name": "Python 3 (ipykernel)",
   "language": "python",
   "name": "python3"
  },
  "language_info": {
   "codemirror_mode": {
    "name": "ipython",
    "version": 3
   },
   "file_extension": ".py",
   "mimetype": "text/x-python",
   "name": "python",
   "nbconvert_exporter": "python",
   "pygments_lexer": "ipython3",
   "version": "3.11.5"
  }
 },
 "nbformat": 4,
 "nbformat_minor": 5
}
